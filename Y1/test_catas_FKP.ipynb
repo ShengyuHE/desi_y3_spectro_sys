{
 "cells": [
  {
   "cell_type": "markdown",
   "metadata": {},
   "source": [
    "## FKP Weight Adjustment for Redshift Catastrophics\n",
    "\n",
    "This notebook focuses on adjusting FKP weights in DESI mock data for different tracer, addressing redshift catastrophic types (`Z_failures`).\n",
    "- Calculation of FKP weight adjustments by `FKPupdate` for redshift discrepancies in catastrophic cases\n",
    "- Optimized implementation with `FKPupdate_opt` for optimization version\n",
    "- Comparison of FKP weight outputs across standard and optimized approaches"
   ]
  },
  {
   "cell_type": "code",
   "execution_count": 1,
   "metadata": {},
   "outputs": [],
   "source": [
    "import os\n",
    "import glob\n",
    "import time\n",
    "import fitsio\n",
    "import argparse\n",
    "import numpy as np\n",
    "from astropy.io import fits\n",
    "from astropy.table import Table\n",
    "from matplotlib import pyplot as plt\n",
    "from scipy.spatial import cKDTree\n",
    "\n",
    "plt.rcParams['axes.labelsize'] = 14\n",
    "plt.rcParams['axes.titlesize'] = 14\n",
    "plt.rcParams['legend.fontsize'] = 14\n",
    "%config InlineBackend.figure_format = 'retina'\n",
    "%matplotlib inline\n",
    "%load_ext line_profiler"
   ]
  },
  {
   "cell_type": "code",
   "execution_count": 2,
   "metadata": {},
   "outputs": [],
   "source": [
    "# from mpytools import Catalog"
   ]
  },
  {
   "cell_type": "code",
   "execution_count": 3,
   "metadata": {},
   "outputs": [],
   "source": [
    "c = 299792 # speed of light in km/s\n",
    "P0_values = {'QSO': 6000, 'LRG': 10000, 'ELG_LOPnotqso': 4000, 'BGS': 7000}\n",
    "NRAN_values = {'ELG_LOPnotqso':10, 'LRG':8, 'QSO':4}"
   ]
  },
  {
   "cell_type": "markdown",
   "metadata": {},
   "source": []
  },
  {
   "cell_type": "code",
   "execution_count": 4,
   "metadata": {},
   "outputs": [],
   "source": [
    "def NXnorm(catalog_fn, nz_fn):\n",
    "    #Calculate the NXnorm for the catalog, norm = NX/n(z)\n",
    "    catalog = Table(fitsio.read(catalog_fn)) \n",
    "    nz      = np.loadtxt(nz_fn)\n",
    "    tree    = cKDTree(nz[:, 0].reshape(-1, 1))\n",
    "    _, ind_rawNZ = tree.query(catalog['Z'].reshape(-1, 1))\n",
    "    norm         = catalog['NX']/nz[ind_rawNZ,3]\n",
    "    return norm\n",
    "\n",
    "def FKPupdate_opt(tracer, catalog_fn, nz_fn, catas_type, norm):\n",
    "    P0 = P0_values.get(tracer, None)\n",
    "    NRAN = NRAN_values.get(tracer, None)\n",
    "    T0 = time.time()\n",
    "    catalog=Table(fitsio.read(catalog_fn))\n",
    "    # Check for Z_{catas_type} existence\n",
    "    if f'Z_{catas_type}' not in catalog.colnames:\n",
    "        raise ValueError(f\"Invalid Zcatas type: '{catas_type}'.\")\n",
    "    catalog[f'FKP_{catas_type}'] = catalog['WEIGHT_FKP'].copy()\n",
    "    # Load the nz_catas and create the cKDTree\n",
    "    nz = np.loadtxt(nz_fn)\n",
    "    tree = cKDTree(nz[:, 0].reshape(-1, 1)) \n",
    "    # caluclate the completeness rescaling of nz for FKP weight\n",
    "    dv = (catalog[f'Z_{catas_type}'] - catalog['Z']) / (1 + catalog['Z']) * c\n",
    "    dz = catalog[f'Z_{catas_type}'] - catalog['Z']\n",
    "    tmp      = np.argsort(catalog['RA'], kind='mergesort')\n",
    "    # tmp      = np.argsort(catalog,order=['RA', 'DEC'])\n",
    "    catalog  = catalog[tmp]\n",
    "    norm     = norm[tmp]\n",
    "    dv       = dv[tmp]\n",
    "    NX       = catalog['NX'].copy()\n",
    "    norm[norm==0] = np.nan\n",
    "    print('there are {} samples to find new FKP'.format(np.sum((dv!=0)&(np.isnan(norm)))))\n",
    "    for ID in np.where((dv!=0)&(np.isnan(norm)))[0]:\n",
    "        if (2<ID)&(ID<len(catalog)-2):\n",
    "            norm[ID] = np.nanmedian(norm[[ID-2,ID-1,ID+1,ID+2]])\n",
    "        elif ID<2:\n",
    "            norm[ID] = np.nanmedian(norm[[ID+1,ID+2]])\n",
    "        elif ID>len(catalog)-2:\n",
    "            norm[ID] = np.nanmedian(norm[[ID-2,ID-1]])\n",
    "        # update NX for norm ==0\n",
    "        # _, ind_ID = tree.query(catalog[f'Z_{catas_type}'][ID].reshape(-1, 1))\n",
    "        ind_ID = np.argmin(abs(catalog[f'Z_{catas_type}'][ID]-nz[:,0]))\n",
    "        NX[ID] = norm[ID]*nz[ind_ID,3]\n",
    "    # update NX and WEIGHT_FKP columns for all catastrophics\n",
    "    sel = dv != 0\n",
    "    _, ind_newNZ = tree.query(catalog[f'Z_{catas_type}'][sel].reshape(-1, 1))\n",
    "    NX[sel] = norm[sel] * nz[ind_newNZ, 3]\n",
    "    catalog[f'FKP_{catas_type}'][sel] = 1 / (NX[sel] * P0 + 1)\n",
    "    catalog[f'FKP_{catas_type}'][np.isnan(catalog[f'FKP_{catas_type}'])] = 1\n",
    "    print('implement {} catastrophophics took time: {:.2f}s'.format(catas_type, time.time()-T0))\n",
    "    # catalog.write(catalog_fn, overwrite=True)\n",
    "    print(f'{catas_type} catastrophics FKP corrected')\n",
    "    return(catalog[f'FKP_{catas_type}'])\n"
   ]
  },
  {
   "cell_type": "code",
   "execution_count": 5,
   "metadata": {},
   "outputs": [],
   "source": [
    "mock_fn   = '/pscratch/sd/s/shengyu/mocks/Y1/Abacus_v4_2/altmtl0/iron/mock0/LSScats/'\n",
    "\n",
    "catas_type = 'failures'\n",
    "\n",
    "catalog_fn = './example_files/ELG_LOPnotqso_NGC_0_clustering.ran.fits'\n",
    "nz_fn = './example_files/ELG_LOPnotqso_NGC_nz.txt'\n",
    "nz_catas_fn = f'./example_files/ELG_LOPnotqso_NGC_nz_{catas_type}.txt'\n",
    "\n",
    "# catalog_fn = mock_fn+'./ELG_LOPnotqso_NGC_3_clustering.ran.fits'\n",
    "# nz_fn = mock_fn+'./ELG_LOPnotqso_NGC_nz.txt'\n",
    "# nz_catas_fn = mock_fn+f'./ELG_LOPnotqso_NGC_nz_{catas_type}.txt'\n",
    "\n",
    "norm = NXnorm(catalog_fn, nz_fn)\n",
    "# a=FKPupdate_opt('ELG_LOPnotqso', catalog_fn, nz_catas_fn, catas_type, norm)"
   ]
  },
  {
   "cell_type": "code",
   "execution_count": 6,
   "metadata": {},
   "outputs": [
    {
     "name": "stdout",
     "output_type": "stream",
     "text": [
      "Z_write: 1.5484557\n",
      "Z_in_nz: 1.5449999570846558\n",
      "nz_failures: 0.0002415715837234574\n"
     ]
    }
   ],
   "source": [
    "# test the cKDTree and the nz\n",
    "catalog = Table(fitsio.read(catalog_fn)) \n",
    "nz_catas= np.loadtxt(nz_catas_fn)\n",
    "tree    = cKDTree(nz_catas[:, 0].reshape(-1, 1))\n",
    "_, ind_rawNZ = tree.query(catalog[f'Z_{catas_type}'].reshape(-1, 1))\n",
    "\n",
    "index = np.random.randint(0, len(ind_rawNZ), size=1)\n",
    "print('Z_write:',catalog[f'Z_{catas_type}'][index][0])\n",
    "print('Z_in_nz:',nz_catas[ind_rawNZ,0][index][0])\n",
    "print(f'nz_{catas_type}:',nz_catas[ind_rawNZ,3][index][0])\n",
    "# plt.scatter(catalog[f'Z'], norm, lw=0.001)"
   ]
  },
  {
   "cell_type": "code",
   "execution_count": 8,
   "metadata": {},
   "outputs": [
    {
     "name": "stdout",
     "output_type": "stream",
     "text": [
      "[     27     130     420 ... 9825351 9825378 9825602]\n"
     ]
    }
   ],
   "source": [
    "# find the FKP difference galaxy index\n",
    "catalog = Table(fitsio.read(catalog_fn))\n",
    "FKP_diff_indix = np.nonzero(catalog['WEIGHT_FKP']-catalog[f'FKP_{catas_type}'])\n",
    "print(FKP_diff_indix[0])"
   ]
  },
  {
   "cell_type": "code",
   "execution_count": 9,
   "metadata": {},
   "outputs": [
    {
     "name": "stdout",
     "output_type": "stream",
     "text": [
      "FKP_init: 0.5736912128468565\n",
      "FKP_catas: 0.5736912128468565\n",
      "calculate: 0.5749241528103981\n"
     ]
    }
   ],
   "source": [
    "#test if the FKP weight is set correctly\n",
    "index = 591\n",
    "print('FKP_init:', catalog['WEIGHT_FKP'][index])\n",
    "print(f'FKP_catas:',catalog[f'FKP_{catas_type}'][index])\n",
    "\n",
    "P0 = P0_values.get('ELG_LOPnotqso', None)\n",
    "nz_catas= np.loadtxt(nz_catas_fn)\n",
    "tree    = cKDTree(nz_catas[:, 0].reshape(-1, 1))\n",
    "_, ind_rawNZ = tree.query(catalog[f'Z_{catas_type}'][index].reshape(-1, 1))\n",
    "# print(nz_catas[ind_rawNZ,3])\n",
    "\n",
    "FKP = 1/(1+P0*nz_catas[ind_rawNZ,3]*norm[index])\n",
    "print('calculate:', FKP[0])"
   ]
  },
  {
   "cell_type": "code",
   "execution_count": 10,
   "metadata": {},
   "outputs": [
    {
     "name": "stdout",
     "output_type": "stream",
     "text": [
      "there are 4240 samples to find new FKP\n",
      "implement failures catastrophophics took time: 5.84s\n",
      "failures catastrophics FKP corrected\n"
     ]
    },
    {
     "name": "stdout",
     "output_type": "stream",
     "text": [
      "Timer unit: 1e-09 s\n",
      "\n",
      "Total time: 5.82878 s\n",
      "File: /tmp/ipykernel_2300783/2626825290.py\n",
      "Function: FKPupdate_opt at line 10\n",
      "\n",
      "Line #      Hits         Time  Per Hit   % Time  Line Contents\n",
      "==============================================================\n",
      "    10                                           def FKPupdate_opt(tracer, catalog_fn, nz_fn, catas_type, norm):\n",
      "    11         1       5491.0   5491.0      0.0      P0 = P0_values.get(tracer, None)\n",
      "    12         1       1473.0   1473.0      0.0      NRAN = NRAN_values.get(tracer, None)\n",
      "    13         1       4558.0   4558.0      0.0      T0 = time.time()\n",
      "    14         1 3626056086.0    4e+09     62.2      catalog=Table(fitsio.read(catalog_fn))\n",
      "    15                                               # Check for Z_{catas_type} existence\n",
      "    16         1      21040.0  21040.0      0.0      if f'Z_{catas_type}' not in catalog.colnames:\n",
      "    17                                                   raise ValueError(f\"Invalid Zcatas type: '{catas_type}'.\")\n",
      "    18         1   82557822.0    8e+07      1.4      catalog[f'FKP_{catas_type}'] = catalog['WEIGHT_FKP'].copy()\n",
      "    19                                               # Load the nz_catas and create the cKDTree\n",
      "    20         1     583981.0 583981.0      0.0      nz = np.loadtxt(nz_fn)\n",
      "    21         1     115405.0 115405.0      0.0      tree = cKDTree(nz[:, 0].reshape(-1, 1)) \n",
      "    22                                               # caluclate the completeness rescaling of nz for FKP weight\n",
      "    23         1  104595145.0    1e+08      1.8      dv = (catalog[f'Z_{catas_type}'] - catalog['Z']) / (1 + catalog['Z']) * c\n",
      "    24         1   23911173.0    2e+07      0.4      dz = catalog[f'Z_{catas_type}'] - catalog['Z']\n",
      "    25         1   83223046.0    8e+07      1.4      tmp      = np.argsort(catalog['RA'], kind='mergesort')\n",
      "    26                                               # tmp      = np.argsort(catalog,order=['RA', 'DEC'])\n",
      "    27         1  719118068.0    7e+08     12.3      catalog  = catalog[tmp]\n",
      "    28         1   41843966.0    4e+07      0.7      norm     = norm[tmp]\n",
      "    29         1   47999258.0    5e+07      0.8      dv       = dv[tmp]\n",
      "    30         1   35765611.0    4e+07      0.6      NX       = catalog['NX'].copy()\n",
      "    31         1    5328916.0    5e+06      0.1      norm[norm==0] = np.nan\n",
      "    32         1   21053664.0    2e+07      0.4      print('there are {} samples to find new FKP'.format(np.sum((dv!=0)&(np.isnan(norm)))))\n",
      "    33      4241   23529401.0   5548.1      0.4      for ID in np.where((dv!=0)&(np.isnan(norm)))[0]:\n",
      "    34      4240    7166155.0   1690.1      0.1          if (2<ID)&(ID<len(catalog)-2):\n",
      "    35      4240  858179463.0 202400.8     14.7              norm[ID] = np.nanmedian(norm[[ID-2,ID-1,ID+1,ID+2]])\n",
      "    36                                                   elif ID<2:\n",
      "    37                                                       norm[ID] = np.nanmedian(norm[[ID+1,ID+2]])\n",
      "    38                                                   elif ID>len(catalog)-2:\n",
      "    39                                                       norm[ID] = np.nanmedian(norm[[ID-2,ID-1]])\n",
      "    40                                                   # update NX for norm ==0\n",
      "    41                                                   # _, ind_ID = tree.query(catalog[f'Z_{catas_type}'][ID].reshape(-1, 1))\n",
      "    42      4240   46574061.0  10984.4      0.8          ind_ID = np.argmin(abs(catalog[f'Z_{catas_type}'][ID]-nz[:,0]))\n",
      "    43      4240   22563689.0   5321.6      0.4          NX[ID] = norm[ID]*nz[ind_ID,3]\n",
      "    44                                               # update NX and WEIGHT_FKP columns for all catastrophics\n",
      "    45         1    7580753.0    8e+06      0.1      sel = dv != 0\n",
      "    46         1   35567751.0    4e+07      0.6      _, ind_newNZ = tree.query(catalog[f'Z_{catas_type}'][sel].reshape(-1, 1))\n",
      "    47         1   13677062.0    1e+07      0.2      NX[sel] = norm[sel] * nz[ind_newNZ, 3]\n",
      "    48         1    9310816.0    9e+06      0.2      catalog[f'FKP_{catas_type}'][sel] = 1 / (NX[sel] * P0 + 1)\n",
      "    49         1   12315700.0    1e+07      0.2      catalog[f'FKP_{catas_type}'][np.isnan(catalog[f'FKP_{catas_type}'])] = 1\n",
      "    50         1     113181.0 113181.0      0.0      print('implement {} catastrophophics took time: {:.2f}s'.format(catas_type, time.time()-T0))\n",
      "    51                                               # catalog.write(catalog_fn, overwrite=True)\n",
      "    52         1       9077.0   9077.0      0.0      print(f'{catas_type} catastrophics FKP corrected')\n",
      "    53         1       6683.0   6683.0      0.0      return(catalog[f'FKP_{catas_type}'])"
     ]
    }
   ],
   "source": [
    "%lprun -f FKPupdate_opt FKPupdate_opt('ELG_LOPnotqso', catalog_fn, nz_catas_fn, catas_type, NXnorm(catalog_fn, nz_catas_fn)) #31262895.0 6841092.0"
   ]
  }
 ],
 "metadata": {
  "kernelspec": {
   "display_name": "rc_env",
   "language": "python",
   "name": "python3"
  },
  "language_info": {
   "codemirror_mode": {
    "name": "ipython",
    "version": 3
   },
   "file_extension": ".py",
   "mimetype": "text/x-python",
   "name": "python",
   "nbconvert_exporter": "python",
   "pygments_lexer": "ipython3",
   "version": "3.9.20"
  }
 },
 "nbformat": 4,
 "nbformat_minor": 2
}
