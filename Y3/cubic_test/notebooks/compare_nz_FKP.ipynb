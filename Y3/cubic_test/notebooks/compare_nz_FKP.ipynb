{
 "cells": [
  {
   "cell_type": "markdown",
   "metadata": {},
   "source": [
    "### This script is used to compare the nz distribution and FKP weight difference after adding the dv to the DR2 clustering mocks"
   ]
  },
  {
   "cell_type": "code",
   "execution_count": 1,
   "metadata": {},
   "outputs": [],
   "source": [
    "import os\n",
    "import fitsio\n",
    "import numpy as np\n",
    "from astropy.table import Table\n",
    "import matplotlib.pyplot as plt\n",
    "import matplotlib.gridspec as gridspec\n",
    "from scipy.stats import gaussian_kde\n",
    "from scipy.interpolate import interp1d"
   ]
  },
  {
   "cell_type": "code",
   "execution_count": 2,
   "metadata": {},
   "outputs": [
    {
     "ename": "",
     "evalue": "",
     "output_type": "error",
     "traceback": [
      "\u001b[1;31mThe Kernel crashed while executing code in the current cell or a previous cell. \n",
      "\u001b[1;31mPlease review the code in the cell(s) to identify a possible cause of the failure. \n",
      "\u001b[1;31mClick <a href='https://aka.ms/vscodeJupyterKernelCrash'>here</a> for more info. \n",
      "\u001b[1;31mView Jupyter <a href='command:jupyter.viewOutput'>log</a> for further details."
     ]
    }
   ],
   "source": [
    "tracer_fns = ['BGS_BRIGHT_full.dat.fits', 'ELGnotqso_full.dat.fits', 'LRG_full.dat.fits', 'QSO_full.dat.fits']\n",
    "\n",
    "data_dir = '/global/cfs/cdirs/desi/survey/catalogs/DA2/LSS/loa-v1/LSScats/v1.1/'\n",
    "\n",
    "fn = data_dir + tracer_fns[1]\n",
    "catalog=Table(fitsio.read(fn))"
   ]
  },
  {
   "cell_type": "code",
   "execution_count": null,
   "metadata": {},
   "outputs": [
    {
     "data": {
      "text/plain": [
       "['TARGETID',\n",
       " 'MWS_TARGET',\n",
       " 'SUBPRIORITY',\n",
       " 'PRIORITY_INIT',\n",
       " 'TARGET_STATE',\n",
       " 'TIMESTAMP',\n",
       " 'PRIORITY',\n",
       " 'LOCATION',\n",
       " 'TILEID',\n",
       " 'TILELOCID',\n",
       " 'LASTNIGHT',\n",
       " 'Z_not4clus',\n",
       " 'ZERR',\n",
       " 'ZWARN',\n",
       " 'CHI2',\n",
       " 'COEFF',\n",
       " 'NPIXELS',\n",
       " 'SPECTYPE',\n",
       " 'SUBTYPE',\n",
       " 'NCOEFF',\n",
       " 'DELTACHI2',\n",
       " 'FIBER',\n",
       " 'COADD_FIBERSTATUS',\n",
       " 'FIBERASSIGN_X',\n",
       " 'FIBERASSIGN_Y',\n",
       " 'COADD_NUMEXP',\n",
       " 'COADD_EXPTIME',\n",
       " 'COADD_NUMNIGHT',\n",
       " 'MEAN_DELTA_X',\n",
       " 'RMS_DELTA_X',\n",
       " 'MEAN_DELTA_Y',\n",
       " 'RMS_DELTA_Y',\n",
       " 'MEAN_PSF_TO_FIBER_SPECFLUX',\n",
       " 'TSNR2_BGS_B',\n",
       " 'TSNR2_ELG_B',\n",
       " 'TSNR2_LRG_B',\n",
       " 'TSNR2_LYA_B',\n",
       " 'TSNR2_QSO_B',\n",
       " 'TSNR2_BGS_R',\n",
       " 'TSNR2_ELG_R',\n",
       " 'TSNR2_LRG_R',\n",
       " 'TSNR2_LYA_R',\n",
       " 'TSNR2_QSO_R',\n",
       " 'TSNR2_BGS_Z',\n",
       " 'TSNR2_ELG_Z',\n",
       " 'TSNR2_LRG_Z',\n",
       " 'TSNR2_LYA_Z',\n",
       " 'TSNR2_QSO_Z',\n",
       " 'TSNR2_BGS',\n",
       " 'TSNR2_ELG',\n",
       " 'TSNR2_LRG',\n",
       " 'TSNR2_LYA',\n",
       " 'TSNR2_QSO',\n",
       " 'ZWARN_MTL',\n",
       " 'Z_QN',\n",
       " 'Z_QN_CONF',\n",
       " 'IS_QSO_QN',\n",
       " 'PRIORITY_ASSIGNED',\n",
       " 'GOODPRI',\n",
       " 'GOODHARDLOC',\n",
       " 'LOCATION_ASSIGNED',\n",
       " 'TILELOCID_ASSIGNED',\n",
       " 'NTILE',\n",
       " 'TILES',\n",
       " 'BRICKID',\n",
       " 'BRICKNAME',\n",
       " 'MORPHTYPE',\n",
       " 'RA',\n",
       " 'DEC',\n",
       " 'DCHISQ',\n",
       " 'EBV',\n",
       " 'FLUX_G',\n",
       " 'FLUX_R',\n",
       " 'FLUX_Z',\n",
       " 'FLUX_IVAR_G',\n",
       " 'FLUX_IVAR_R',\n",
       " 'FLUX_IVAR_Z',\n",
       " 'MW_TRANSMISSION_G',\n",
       " 'MW_TRANSMISSION_R',\n",
       " 'MW_TRANSMISSION_Z',\n",
       " 'NOBS_G',\n",
       " 'NOBS_R',\n",
       " 'NOBS_Z',\n",
       " 'PSFDEPTH_G',\n",
       " 'PSFDEPTH_R',\n",
       " 'PSFDEPTH_Z',\n",
       " 'GALDEPTH_G',\n",
       " 'GALDEPTH_R',\n",
       " 'GALDEPTH_Z',\n",
       " 'FLUX_W1',\n",
       " 'FLUX_W2',\n",
       " 'FLUX_IVAR_W1',\n",
       " 'FLUX_IVAR_W2',\n",
       " 'MW_TRANSMISSION_W1',\n",
       " 'MW_TRANSMISSION_W2',\n",
       " 'FIBERFLUX_G',\n",
       " 'FIBERFLUX_R',\n",
       " 'FIBERFLUX_Z',\n",
       " 'FIBERTOTFLUX_G',\n",
       " 'FIBERTOTFLUX_R',\n",
       " 'FIBERTOTFLUX_Z',\n",
       " 'WISEMASK_W1',\n",
       " 'WISEMASK_W2',\n",
       " 'MASKBITS',\n",
       " 'SHAPE_R',\n",
       " 'PHOTSYS',\n",
       " 'DESI_TARGET',\n",
       " 'BGS_TARGET',\n",
       " 'COMP_TILE',\n",
       " 'FRACZ_TILELOCID',\n",
       " 'FRAC_TLOBS_TILES',\n",
       " 'WEIGHT_ZFAIL',\n",
       " 'mod_success_rate',\n",
       " 'BITWEIGHTS',\n",
       " 'PROB_OBS']"
      ]
     },
     "execution_count": 6,
     "metadata": {},
     "output_type": "execute_result"
    }
   ],
   "source": [
    "catalog.colnames"
   ]
  }
 ],
 "metadata": {
  "kernelspec": {
   "display_name": "Python 3",
   "language": "python",
   "name": "python3"
  },
  "language_info": {
   "codemirror_mode": {
    "name": "ipython",
    "version": 3
   },
   "file_extension": ".py",
   "mimetype": "text/x-python",
   "name": "python",
   "nbconvert_exporter": "python",
   "pygments_lexer": "ipython3",
   "version": "3.9.20"
  }
 },
 "nbformat": 4,
 "nbformat_minor": 2
}
