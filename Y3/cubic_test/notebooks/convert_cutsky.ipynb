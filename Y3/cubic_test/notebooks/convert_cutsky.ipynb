{
 "cells": [
  {
   "cell_type": "markdown",
   "metadata": {},
   "source": [
    "## Covert desi Abacus CubicBox mocks to Cut-sky mocks"
   ]
  },
  {
   "cell_type": "code",
   "execution_count": 1,
   "metadata": {},
   "outputs": [
    {
     "name": "stderr",
     "output_type": "stream",
     "text": [
      "An NVIDIA GPU may be present on this machine, but a CUDA-enabled jaxlib is not installed. Falling back to cpu.\n"
     ]
    }
   ],
   "source": [
    "import os\n",
    "os.environ[\"MPICH_GPU_SUPPORT_ENABLED\"] = \"0\"\n",
    "import numpy as np\n",
    "from matplotlib import pyplot as plt\n",
    "\n",
    "import fitsio\n",
    "from astropy.io import fits\n",
    "from astropy.table import Table\n",
    "from mockfactory import (EulerianLinearMock, LagrangianLinearMock,\n",
    "                         Catalog, BoxCatalog, RandomBoxCatalog, box_to_cutsky,\n",
    "                         DistanceToRedshift, TabulatedRadialMask, HealpixAngularMask,\n",
    "                         utils, setup_logging)\n",
    "\n",
    "from cosmoprimo.fiducial import DESI\n",
    "\n",
    "# Set up logging\n",
    "setup_logging()"
   ]
  },
  {
   "cell_type": "code",
   "execution_count": 62,
   "metadata": {},
   "outputs": [],
   "source": [
    "z = 0.8\n",
    "z_str = f\"{z:.3f}\" \n",
    "\n",
    "cosmo = DESI()\n",
    "f = cosmo.sigma8_z(z=z, of='theta_cb') / cosmo.sigma8_z(z=z, of='delta_cb') # growth rate\n",
    "dist = cosmo.comoving_radial_distance(z)"
   ]
  },
  {
   "cell_type": "code",
   "execution_count": 63,
   "metadata": {},
   "outputs": [],
   "source": [
    "nmesh = 512.\n",
    "boxsize = 2000.\n",
    "boxcenter = [dist, 0, 0]\n",
    "\n",
    "cubic_mock_fn = f'/pscratch/sd/s/shengyu/galaxies/catalogs/cosmosim/AbacusHOD_mocks_v1/CubicBox/LRG/z{z_str}/AbacusSummit_base_c000_ph000/catalog_rsd_xi2d_lrg_main_z0.8_velbias_B_s_mockcov.fits'\n",
    "catalog=Table(fitsio.read(cubic_mock_fn))    \n"
   ]
  },
  {
   "cell_type": "code",
   "execution_count": 64,
   "metadata": {},
   "outputs": [
    {
     "name": "stdout",
     "output_type": "stream",
     "text": [
      "[000029.62] [0/1] 12-12 05:53  EulerianLinearMock        INFO     White noise generated.\n"
     ]
    },
    {
     "ename": "TypeError",
     "evalue": "'Table' object is not callable",
     "output_type": "error",
     "traceback": [
      "\u001b[0;31m---------------------------------------------------------------------------\u001b[0m",
      "\u001b[0;31mTypeError\u001b[0m                                 Traceback (most recent call last)",
      "Cell \u001b[0;32mIn[64], line 2\u001b[0m\n\u001b[1;32m      1\u001b[0m bias \u001b[38;5;241m=\u001b[39m \u001b[38;5;241m2.0\u001b[39m\n\u001b[0;32m----> 2\u001b[0m mock \u001b[38;5;241m=\u001b[39m \u001b[43mEulerianLinearMock\u001b[49m\u001b[43m(\u001b[49m\u001b[43mcatalog\u001b[49m\u001b[43m,\u001b[49m\u001b[43m \u001b[49m\u001b[43mnmesh\u001b[49m\u001b[38;5;241;43m=\u001b[39;49m\u001b[43mnmesh\u001b[49m\u001b[43m,\u001b[49m\u001b[43m \u001b[49m\u001b[43mboxsize\u001b[49m\u001b[38;5;241;43m=\u001b[39;49m\u001b[43mboxsize\u001b[49m\u001b[43m,\u001b[49m\u001b[43m \u001b[49m\u001b[43mboxcenter\u001b[49m\u001b[38;5;241;43m=\u001b[39;49m\u001b[43mboxcenter\u001b[49m\u001b[43m,\u001b[49m\u001b[43m \u001b[49m\u001b[43mseed\u001b[49m\u001b[38;5;241;43m=\u001b[39;49m\u001b[38;5;241;43m42\u001b[39;49m\u001b[43m,\u001b[49m\u001b[43m \u001b[49m\u001b[43munitary_amplitude\u001b[49m\u001b[38;5;241;43m=\u001b[39;49m\u001b[38;5;28;43;01mFalse\u001b[39;49;00m\u001b[43m)\u001b[49m\n\u001b[1;32m      3\u001b[0m mock\u001b[38;5;241m.\u001b[39mset_real_delta_field()\n\u001b[1;32m      4\u001b[0m \u001b[38;5;66;03m# mesh is mock.mesh_delta_r\u001b[39;00m\n",
      "File \u001b[0;32m~/.conda/envs/rc_env/lib/python3.9/site-packages/mpytools/utils.py:36\u001b[0m, in \u001b[0;36mCurrentMPIComm.enable.<locals>.wrapper\u001b[0;34m(*args, **kwargs)\u001b[0m\n\u001b[1;32m     34\u001b[0m     mpicomm \u001b[38;5;241m=\u001b[39m CurrentMPIComm\u001b[38;5;241m.\u001b[39mget()\n\u001b[1;32m     35\u001b[0m kwargs[\u001b[38;5;124m'\u001b[39m\u001b[38;5;124mmpicomm\u001b[39m\u001b[38;5;124m'\u001b[39m] \u001b[38;5;241m=\u001b[39m mpicomm\n\u001b[0;32m---> 36\u001b[0m \u001b[38;5;28;01mreturn\u001b[39;00m \u001b[43mfunc\u001b[49m\u001b[43m(\u001b[49m\u001b[38;5;241;43m*\u001b[39;49m\u001b[43margs\u001b[49m\u001b[43m,\u001b[49m\u001b[43m \u001b[49m\u001b[38;5;241;43m*\u001b[39;49m\u001b[38;5;241;43m*\u001b[39;49m\u001b[43mkwargs\u001b[49m\u001b[43m)\u001b[49m\n",
      "File \u001b[0;32m~/.conda/envs/rc_env/lib/python3.9/site-packages/mockfactory/gaussian_mock.py:253\u001b[0m, in \u001b[0;36mBaseGaussianMock.__init__\u001b[0;34m(self, power, nmesh, boxsize, cellsize, boxcenter, los, seed, unitary_amplitude, inverted_phase, dtype, mpicomm)\u001b[0m\n\u001b[1;32m    251\u001b[0m     los \u001b[38;5;241m=\u001b[39m _get_los(los)\n\u001b[1;32m    252\u001b[0m \u001b[38;5;28mself\u001b[39m\u001b[38;5;241m.\u001b[39mattrs[\u001b[38;5;124m'\u001b[39m\u001b[38;5;124mlos\u001b[39m\u001b[38;5;124m'\u001b[39m] \u001b[38;5;241m=\u001b[39m los\n\u001b[0;32m--> 253\u001b[0m \u001b[38;5;28;43mself\u001b[39;49m\u001b[38;5;241;43m.\u001b[39;49m\u001b[43mset_complex_delta_field\u001b[49m\u001b[43m(\u001b[49m\u001b[43m)\u001b[49m\n",
      "File \u001b[0;32m~/.conda/envs/rc_env/lib/python3.9/site-packages/mockfactory/gaussian_mock.py:323\u001b[0m, in \u001b[0;36mBaseGaussianMock.set_complex_delta_field\u001b[0;34m(self)\u001b[0m\n\u001b[1;32m    321\u001b[0m     power[mask_nonzero] \u001b[38;5;241m=\u001b[39m \u001b[38;5;28mself\u001b[39m\u001b[38;5;241m.\u001b[39mpower(k[mask_nonzero], mu[mask_nonzero])\n\u001b[1;32m    322\u001b[0m \u001b[38;5;28;01melse\u001b[39;00m:\n\u001b[0;32m--> 323\u001b[0m     power[mask_nonzero] \u001b[38;5;241m=\u001b[39m \u001b[38;5;28;43mself\u001b[39;49m\u001b[38;5;241;43m.\u001b[39;49m\u001b[43mpower\u001b[49m\u001b[43m(\u001b[49m\u001b[43mk\u001b[49m\u001b[43m[\u001b[49m\u001b[43mmask_nonzero\u001b[49m\u001b[43m]\u001b[49m\u001b[43m)\u001b[49m\n\u001b[1;32m    325\u001b[0m \u001b[38;5;66;03m# multiply complex field by sqrt of power\u001b[39;00m\n\u001b[1;32m    326\u001b[0m delta_slab[\u001b[38;5;241m.\u001b[39m\u001b[38;5;241m.\u001b[39m\u001b[38;5;241m.\u001b[39m]\u001b[38;5;241m.\u001b[39mflat \u001b[38;5;241m*\u001b[39m\u001b[38;5;241m=\u001b[39m (power \u001b[38;5;241m*\u001b[39m norm)\u001b[38;5;241m*\u001b[39m\u001b[38;5;241m*\u001b[39m\u001b[38;5;241m0.5\u001b[39m\n",
      "\u001b[0;31mTypeError\u001b[0m: 'Table' object is not callable"
     ]
    }
   ],
   "source": [
    "bias = 2.0\n",
    "mock = EulerianLinearMock(catalog, nmesh=nmesh, boxsize=boxsize, boxcenter=boxcenter, seed=42, unitary_amplitude=False)\n",
    "mock.set_real_delta_field()\n",
    "# mesh is mock.mesh_delta_r\n",
    "mesh_real = mock.mesh_delta_r.copy()\n",
    "mock.set_rsd(f=f, los=None)\n",
    "mesh_rsd = mock.mesh_delta_r"
   ]
  },
  {
   "cell_type": "code",
   "execution_count": null,
   "metadata": {},
   "outputs": [],
   "source": []
  }
 ],
 "metadata": {
  "kernelspec": {
   "display_name": "rc_env",
   "language": "python",
   "name": "python3"
  },
  "language_info": {
   "codemirror_mode": {
    "name": "ipython",
    "version": 3
   },
   "file_extension": ".py",
   "mimetype": "text/x-python",
   "name": "python",
   "nbconvert_exporter": "python",
   "pygments_lexer": "ipython3",
   "version": "3.9.20"
  }
 },
 "nbformat": 4,
 "nbformat_minor": 2
}
