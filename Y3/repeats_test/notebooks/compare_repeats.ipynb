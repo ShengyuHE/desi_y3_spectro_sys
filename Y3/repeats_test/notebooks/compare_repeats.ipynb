{
 "cells": [
  {
   "cell_type": "markdown",
   "id": "b8e31256",
   "metadata": {},
   "source": [
    "## Compare the repeats between two scirpts\n",
    "\n",
    "Ashley(AS): https://github.com/desihub/LSS/blob/main/scripts/get_repeat_redshifts.py\n",
    "\n",
    "repeat_dir = '/global/cfs/cdirs/desi/survey/catalogs/DA2/LSS/loa-v1' \n",
    "\n",
    "local_saved = '/pscratch/sd/s/shengyu/repeats/DA2/loa-v1'\n",
    "\n",
    "Anand(AN): https://github.com/desihub/LSS/blob/main/scripts/desi_main_repeats.py\n",
    "\n",
    "repeat_dir = '/global/cfs/cdirs/desi/spectro/redux/main' \n",
    "\n",
    "local_saved = '/pscratch/sd/s/shengyu/repeats/DA2/kibo-v1'"
   ]
  },
  {
   "cell_type": "markdown",
   "id": "a1bd96f9",
   "metadata": {},
   "source": [
    "1. BGS bright, or + BGS faint?, double check the numbers\n",
    "2. how to do the z selection for the repetas sample, which is the ture rate for catastrophics\n",
    "3. QSO catas rate inconsistency between two scripts, TILEID issues?"
   ]
  },
  {
   "cell_type": "code",
   "execution_count": 21,
   "id": "2d21b2ef",
   "metadata": {},
   "outputs": [
    {
     "name": "stdout",
     "output_type": "stream",
     "text": [
      "The autoreload extension is already loaded. To reload it, use:\n",
      "  %reload_ext autoreload\n"
     ]
    }
   ],
   "source": [
    "import os, sys\n",
    "import random\n",
    "import fitsio\n",
    "import numpy as np\n",
    "from astropy.table import Table,join,unique,vstack\n",
    "import matplotlib.pyplot as plt\n",
    "from matplotlib import ticker\n",
    "import random\n",
    "\n",
    "sys.path.append('/global/homes/s/shengyu/project_rc/main/Y3/')\n",
    "from helper import REDSHIFT_VSMEAR, REDSHIFT_LSS_VSMEAR, REDSHIFT_CUBICBOX, EDGES, COLOR_TRACERS, GET_RECON_BIAS\n",
    "from Y3_redshift_systematics import vsmear, vsmear_modelling\n",
    "%load_ext autoreload\n",
    "%autoreload 2\n",
    "\n",
    "Z_SMEAR = REDSHIFT_VSMEAR.copy()\n",
    "Z_SMEAR['LRG'] = [(0.4, 1.1)]+Z_SMEAR['LRG']\n",
    "Z_SMEAR['ELG'] = [(0.8, 1.6)]+Z_SMEAR['ELG']\n",
    "Z_SMEAR['QSO'] = [(0.8, 2.1)]+Z_SMEAR['QSO']\n",
    "c = 299792.458"
   ]
  },
  {
   "cell_type": "code",
   "execution_count": 45,
   "id": "57eb95fa",
   "metadata": {},
   "outputs": [],
   "source": [
    "def repeat_quantity(tracer, zmin, zmax, script='AS', dv_limit = 1000):\n",
    "    if script == 'AN':\n",
    "        REPEAT_DIR = f'/pscratch/sd/s/shengyu/repeats/DA2/kibo-v1' \n",
    "        d = Table.read(REPEAT_DIR+f'/{tracer}repeats.fits', hdu=1) \n",
    "        sel      = np.full(len(d),True)\n",
    "        # selz = ((zmin<d[\"Z_0\"])&(d[\"Z_0\"]<zmax))\n",
    "        selz = ((zmin<d[\"Z_0\"])&(d[\"Z_0\"]<zmax))|((zmin<d[\"Z_1\"])&(d[\"Z_1\"]<zmax))\n",
    "        d_zbin = d[sel & selz]     \n",
    "        dv_zbin = (d_zbin['Z_1']-d_zbin['Z_0'])/(1+d_zbin['Z_0'])*c\n",
    "    elif script == 'AS':\n",
    "        REPEAT_DIR = f'/pscratch/sd/s/shengyu/repeats/DA2/loa-v1'\n",
    "        d = Table.read(REPEAT_DIR+f'/{tracer}repeats.fits', hdu=1) \n",
    "        sel      = np.full(len(d),True)\n",
    "        sel = np.isfinite(d['Z1']) & np.isfinite(d['Z2'])\n",
    "        # selz = ((zmin<d[\"Z1\"])&(d[\"Z1\"]<zmax))\n",
    "        # selz = ((zmin<d[\"Z1\"])&(d[\"Z1\"]<zmax))|((zmin<d[\"Z2\"])&(d[\"Z2\"]<zmax))\n",
    "        # d_zbin = d[sel & selz]\n",
    "        d_zbin = d[sel]\n",
    "        dv_zbin = (d_zbin['Z2']-d_zbin['Z1'])/(1+d_zbin['Z1'])*c\n",
    "\n",
    "    number = len(d_zbin) # number of repeats\n",
    "    selcata = abs(dv_zbin) < dv_limit # select the catastrophics outliers\n",
    "    logdv_zbin = np.log10(abs(dv_zbin)) \n",
    "    median_dv = 10**np.median(logdv_zbin) # median of the dv\n",
    "    dv_smear = dv_zbin[selcata] # redshift uncertainty part\n",
    "    RMS = np.sqrt(np.mean(dv_smear ** 2)) # RMS of the dv\n",
    "    fc = (1-len(dv_smear)/len(dv_zbin))*100 # catastrophic rate in %\n",
    "    qu = dict(number=number, median=median_dv, RMS=RMS, fc=fc)\n",
    "    return qu"
   ]
  },
  {
   "cell_type": "code",
   "execution_count": 43,
   "id": "ca347516",
   "metadata": {},
   "outputs": [
    {
     "name": "stdout",
     "output_type": "stream",
     "text": [
      "BGS (0.1, 0.4) dv>1000 or dz>0.0033\n",
      "AN {'number': 244123, 'median': 14.408252769674963, 'RMS': 35.16199521313628, 'fc': 0.3756303175038833}\n",
      "AS {'number': 363856, 'median': 13.367370240968773, 'RMS': 35.99937820719732, 'fc': 0.7404027967107818}\n"
     ]
    }
   ],
   "source": [
    "for tracer in ['BGS']:\n",
    "# for tracer in ['QSO']:\n",
    "    for i,(zmin, zmax) in enumerate(Z_SMEAR[tracer]):\n",
    "        dv_limit = 3000 if tracer == 'QSO' else 1000\n",
    "        i_suffix = i if i>0 else ''\n",
    "        print(f'{tracer}{i_suffix}', (zmin, zmax), f'dv>{dv_limit} or dz>{dv_limit/c:.4f}' )\n",
    "        for script in ['AN','AS']:\n",
    "            qu = repeat_quantity(tracer, zmin, zmax, script=script, dv_limit=dv_limit)\n",
    "            print(script,qu)"
   ]
  },
  {
   "cell_type": "code",
   "execution_count": 46,
   "id": "3c1c5484",
   "metadata": {},
   "outputs": [
    {
     "name": "stdout",
     "output_type": "stream",
     "text": [
      "QSO (0.8, 2.1) dv>3000 or dz>0.0100\n",
      "AN {'number': 279711, 'median': 95.68932864317246, 'RMS': 409.7945812870456, 'fc': 2.372448705985819}\n",
      "AS {'number': 1359473, 'median': 70.77066019791768, 'RMS': 380.092656880503, 'fc': 0.7249868147436556}\n",
      "QSO1 (0.8, 1.1) dv>3000 or dz>0.0100\n",
      "AN {'number': 35664, 'median': 30.559673359265517, 'RMS': 194.8630878832419, 'fc': 3.900291610587703}\n",
      "AS {'number': 1359473, 'median': 70.77066019791768, 'RMS': 380.092656880503, 'fc': 0.7249868147436556}\n",
      "QSO2 (1.1, 1.4) dv>3000 or dz>0.0100\n",
      "AN {'number': 54219, 'median': 52.716735316935726, 'RMS': 242.51617540978134, 'fc': 2.3866172374997663}\n",
      "AS {'number': 1359473, 'median': 70.77066019791768, 'RMS': 380.092656880503, 'fc': 0.7249868147436556}\n",
      "QSO3 (1.4, 1.7) dv>3000 or dz>0.0100\n",
      "AN {'number': 69194, 'median': 139.9283536734217, 'RMS': 462.6280097864955, 'fc': 2.7169985836922317}\n",
      "AS {'number': 1359473, 'median': 70.77066019791768, 'RMS': 380.092656880503, 'fc': 0.7249868147436556}\n",
      "QSO4 (1.7, 2.1) dv>3000 or dz>0.0100\n",
      "AN {'number': 122151, 'median': 144.58504305723412, 'RMS': 488.2101577675907, 'fc': 1.968055930774204}\n",
      "AS {'number': 1359473, 'median': 70.77066019791768, 'RMS': 380.092656880503, 'fc': 0.7249868147436556}\n"
     ]
    }
   ],
   "source": [
    "for tracer in ['QSO']:\n",
    "# for tracer in ['QSO']:\n",
    "    for i,(zmin, zmax) in enumerate(Z_SMEAR[tracer]):\n",
    "        dv_limit = 3000 if tracer == 'QSO' else 1000\n",
    "        i_suffix = i if i>0 else ''\n",
    "        print(f'{tracer}{i_suffix}', (zmin, zmax), f'dv>{dv_limit} or dz>{dv_limit/c:.4f}' )\n",
    "        for script in ['AN','AS']:\n",
    "            qu = repeat_quantity(tracer, zmin, zmax, script=script, dv_limit=dv_limit)\n",
    "            print(script,qu)"
   ]
  },
  {
   "cell_type": "code",
   "execution_count": 29,
   "id": "844bd9e4",
   "metadata": {},
   "outputs": [
    {
     "name": "stdout",
     "output_type": "stream",
     "text": [
      "{'number': 255111, 'median': 92.40748031676436, 'RMS': 484.27009190164233, 'fc': 1.0771781695026905}\n"
     ]
    },
    {
     "name": "stderr",
     "output_type": "stream",
     "text": [
      "/global/homes/s/shengyu/.conda/envs/rc_env/lib/python3.9/site-packages/numpy/core/fromnumeric.py:771: UserWarning: Warning: 'partition' will ignore the 'mask' of the MaskedColumn.\n",
      "  a.partition(kth, axis=axis, kind=kind, order=order)\n"
     ]
    }
   ],
   "source": [
    "qu = repeat_quantity('QSO', 0.8, 2.1, script='AS', dv_limit=10000)\n",
    "print(qu)"
   ]
  },
  {
   "cell_type": "code",
   "execution_count": null,
   "id": "76042c65",
   "metadata": {},
   "outputs": [],
   "source": [
    "REPEAT_DIR = f'/pscratch/sd/s/shengyu/repeats/DA2/kibo-v1' \n",
    "d = Table.read(REPEAT_DIR+f'/QSOrepeats.fits', hdu=1)"
   ]
  },
  {
   "cell_type": "code",
   "execution_count": null,
   "id": "57f1ceaf",
   "metadata": {},
   "outputs": [
    {
     "data": {
      "text/html": [
       "<div><i>Table length=194574</i>\n",
       "<table id=\"table139749655877984\" class=\"table-striped table-bordered table-condensed\">\n",
       "<thead><tr><th>TARGETID</th><th>TARGET_RA</th><th>TARGET_DEC</th><th>PHOTSYS</th><th>DESI_TARGET</th><th>BGS_TARGET</th><th>SURVEY_0</th><th>TILEID_0</th><th>LASTNIGHT_0</th><th>PETAL_LOC_0</th><th>FIBER_0</th><th>COADD_FIBERSTATUS_0</th><th>TSNR2_BGS_0</th><th>TSNR2_LRG_0</th><th>TSNR2_ELG_0</th><th>TSNR2_QSO_0</th><th>TSNR2_LYA_0</th><th>Z_0</th><th>ZERR_0</th><th>ZWARN_0</th><th>DELTACHI2_0</th><th>OII_FLUX_0</th><th>OII_FLUX_IVAR_0</th><th>Z_NEW_0</th><th>ZERR_NEW_0</th><th>IS_QSO_QN_NEW_RR_0</th><th>ZMTL_ZWARN_0</th><th>ZMTL_Z_QN_0</th><th>ZMTL_Z_QN_CONF_0</th><th>ZMTL_IS_QSO_QN_0</th><th>GOOD_BGS_0</th><th>GOOD_LRG_0</th><th>GOOD_ELG_0</th><th>GOOD_QSO_0</th><th>SURVEY_1</th><th>TILEID_1</th><th>LASTNIGHT_1</th><th>PETAL_LOC_1</th><th>FIBER_1</th><th>COADD_FIBERSTATUS_1</th><th>TSNR2_BGS_1</th><th>TSNR2_LRG_1</th><th>TSNR2_ELG_1</th><th>TSNR2_QSO_1</th><th>TSNR2_LYA_1</th><th>Z_1</th><th>ZERR_1</th><th>ZWARN_1</th><th>DELTACHI2_1</th><th>OII_FLUX_1</th><th>OII_FLUX_IVAR_1</th><th>Z_NEW_1</th><th>ZERR_NEW_1</th><th>IS_QSO_QN_NEW_RR_1</th><th>ZMTL_ZWARN_1</th><th>ZMTL_Z_QN_1</th><th>ZMTL_Z_QN_CONF_1</th><th>ZMTL_IS_QSO_QN_1</th><th>GOOD_BGS_1</th><th>GOOD_LRG_1</th><th>GOOD_ELG_1</th><th>GOOD_QSO_1</th><th>DV</th><th>DV_NEW</th></tr></thead>\n",
       "<thead><tr><th>int64</th><th>float64</th><th>float64</th><th>bytes1</th><th>int64</th><th>int64</th><th>bytes4</th><th>int32</th><th>int32</th><th>int16</th><th>int32</th><th>int32</th><th>float32</th><th>float32</th><th>float32</th><th>float32</th><th>float32</th><th>float64</th><th>float64</th><th>int64</th><th>float64</th><th>float32</th><th>float32</th><th>float64</th><th>float32</th><th>bool</th><th>int64</th><th>float64</th><th>float64</th><th>int16</th><th>bool</th><th>bool</th><th>bool</th><th>bool</th><th>bytes4</th><th>int32</th><th>int32</th><th>int16</th><th>int32</th><th>int32</th><th>float32</th><th>float32</th><th>float32</th><th>float32</th><th>float32</th><th>float64</th><th>float64</th><th>int64</th><th>float64</th><th>float32</th><th>float32</th><th>float64</th><th>float32</th><th>bool</th><th>int64</th><th>float64</th><th>float64</th><th>int16</th><th>bool</th><th>bool</th><th>bool</th><th>bool</th><th>float64</th><th>float64</th></tr></thead>\n",
       "<tr><td>39627334763942114</td><td>62.41429578644092</td><td>-19.012558123878666</td><td>S</td><td>4611686018427650052</td><td>0</td><td>main</td><td>10243</td><td>20211103</td><td>0</td><td>159</td><td>0</td><td>6170.5703</td><td>73.281296</td><td>104.68083</td><td>28.031994</td><td>90.516266</td><td>1.6660638401922518</td><td>6.759132878018886e-05</td><td>0</td><td>19.176493525505066</td><td>--</td><td>--</td><td>2.5430464197795435</td><td>0.00046857048</td><td>True</td><td>0</td><td>2.5575442708917655</td><td>0.9999986109577833</td><td>1</td><td>False</td><td>False</td><td>False</td><td>True</td><td>main</td><td>7146</td><td>20221220</td><td>0</td><td>457</td><td>0</td><td>6175.2344</td><td>77.55812</td><td>113.8521</td><td>28.138481</td><td>87.41986</td><td>2.5430902450193686</td><td>0.000980711279919456</td><td>4</td><td>5.257853996939957</td><td>--</td><td>--</td><td>--</td><td>--</td><td>False</td><td>4</td><td>2.5471454579681563</td><td>0.999999266524066</td><td>1</td><td>False</td><td>False</td><td>False</td><td>True</td><td>98619.50703140875</td><td>--</td></tr>\n",
       "<tr><td>39627339939711018</td><td>27.9983732539334</td><td>-18.722609206776017</td><td>S</td><td>4611686018427650052</td><td>0</td><td>main</td><td>9107</td><td>20211031</td><td>1</td><td>802</td><td>0</td><td>7532.526</td><td>89.49169</td><td>130.32314</td><td>35.282127</td><td>121.794106</td><td>1.625469532263648</td><td>0.0008135278351569729</td><td>0</td><td>347.97027962608263</td><td>--</td><td>--</td><td>--</td><td>--</td><td>False</td><td>0</td><td>1.6248397731449122</td><td>0.9999999977235363</td><td>1</td><td>True</td><td>False</td><td>False</td><td>True</td><td>main</td><td>4311</td><td>20231205</td><td>9</td><td>4927</td><td>0</td><td>7311.302</td><td>83.73307</td><td>120.10724</td><td>31.986294</td><td>179.83957</td><td>1.6190576468819584</td><td>0.000782222975742356</td><td>0</td><td>620.8077875552699</td><td>-0.5544501</td><td>2.0531964</td><td>--</td><td>--</td><td>False</td><td>0</td><td>1.619244355967</td><td>0.9999957583940197</td><td>1</td><td>True</td><td>False</td><td>False</td><td>True</td><td>-732.1489948252005</td><td>--</td></tr>\n",
       "<tr><td>39627340275255870</td><td>49.08957020995101</td><td>-18.708253556750233</td><td>S</td><td>4611686018428305446</td><td>0</td><td>main</td><td>5578</td><td>20240115</td><td>1</td><td>876</td><td>0</td><td>6322.417</td><td>73.44809</td><td>102.90688</td><td>26.166744</td><td>86.528496</td><td>0.6726897212706846</td><td>8.827207359091725e-05</td><td>4</td><td>0.9271681755781174</td><td>2.3046036</td><td>0.5625291</td><td>1.8717108538833895</td><td>0.0009413722</td><td>True</td><td>4</td><td>1.891695280060401</td><td>0.9999996122682022</td><td>1</td><td>False</td><td>False</td><td>False</td><td>True</td><td>main</td><td>2446</td><td>20231207</td><td>9</td><td>4984</td><td>0</td><td>7533.015</td><td>89.10441</td><td>126.55614</td><td>34.16395</td><td>164.99431</td><td>1.908172028624551</td><td>0.0014300663679107635</td><td>0</td><td>38.71360712824389</td><td>--</td><td>--</td><td>--</td><td>--</td><td>False</td><td>0</td><td>1.8911494852920163</td><td>0.9999994441455812</td><td>1</td><td>False</td><td>False</td><td>False</td><td>True</td><td>221432.74573108266</td><td>--</td></tr>\n",
       "<tr><td>39627340304620362</td><td>51.072010223479815</td><td>-18.73415535595483</td><td>S</td><td>4611686018428305446</td><td>0</td><td>main</td><td>5578</td><td>20240115</td><td>9</td><td>4516</td><td>0</td><td>6902.3906</td><td>76.99681</td><td>114.84182</td><td>28.513977</td><td>84.74939</td><td>2.1264313664842773</td><td>0.00040922789155693664</td><td>0</td><td>30.09002346545458</td><td>--</td><td>--</td><td>--</td><td>--</td><td>False</td><td>0</td><td>2.110210099059035</td><td>0.9999999985372952</td><td>1</td><td>False</td><td>False</td><td>False</td><td>True</td><td>main</td><td>2431</td><td>20211211</td><td>1</td><td>893</td><td>0</td><td>9923.741</td><td>119.62926</td><td>205.14374</td><td>45.321026</td><td>85.4882</td><td>2.085270154827261</td><td>0.0002846587915212237</td><td>0</td><td>33.26908776164055</td><td>--</td><td>--</td><td>--</td><td>--</td><td>False</td><td>0</td><td>2.1065035305106052</td><td>0.9999999994676816</td><td>1</td><td>False</td><td>False</td><td>False</td><td>True</td><td>-3946.9348181442565</td><td>--</td></tr>\n",
       "<tr><td>39627340304620362</td><td>51.072010223479815</td><td>-18.73415535595483</td><td>S</td><td>4611686018428305446</td><td>0</td><td>main</td><td>5578</td><td>20240115</td><td>9</td><td>4516</td><td>0</td><td>6902.3906</td><td>76.99681</td><td>114.84182</td><td>28.513977</td><td>84.74939</td><td>2.1264313664842773</td><td>0.00040922789155693664</td><td>0</td><td>30.09002346545458</td><td>--</td><td>--</td><td>--</td><td>--</td><td>False</td><td>0</td><td>2.110210099059035</td><td>0.9999999985372952</td><td>1</td><td>False</td><td>False</td><td>False</td><td>True</td><td>main</td><td>10246</td><td>20240129</td><td>1</td><td>564</td><td>0</td><td>6740.451</td><td>81.354614</td><td>115.00851</td><td>31.25117</td><td>95.09421</td><td>2.0875203941710527</td><td>0.0003347790012987621</td><td>0</td><td>30.94591740705073</td><td>--</td><td>--</td><td>--</td><td>--</td><td>False</td><td>0</td><td>2.1081713631441534</td><td>0.9999999996100886</td><td>1</td><td>False</td><td>False</td><td>False</td><td>True</td><td>-3731.160120130599</td><td>--</td></tr>\n",
       "<tr><td>39627340304620362</td><td>51.072010223479815</td><td>-18.73415535595483</td><td>S</td><td>4611686018428305446</td><td>0</td><td>main</td><td>2431</td><td>20211211</td><td>1</td><td>893</td><td>0</td><td>9923.741</td><td>119.62926</td><td>205.14374</td><td>45.321026</td><td>85.4882</td><td>2.085270154827261</td><td>0.0002846587915212237</td><td>0</td><td>33.26908776164055</td><td>--</td><td>--</td><td>--</td><td>--</td><td>False</td><td>0</td><td>2.1065035305106052</td><td>0.9999999994676816</td><td>1</td><td>False</td><td>False</td><td>False</td><td>True</td><td>main</td><td>10246</td><td>20240129</td><td>1</td><td>564</td><td>0</td><td>6740.451</td><td>81.354614</td><td>115.00851</td><td>31.25117</td><td>95.09421</td><td>2.0875203941710527</td><td>0.0003347790012987621</td><td>0</td><td>30.94591740705073</td><td>--</td><td>--</td><td>--</td><td>--</td><td>False</td><td>0</td><td>2.1081713631441534</td><td>0.9999999996100886</td><td>1</td><td>False</td><td>False</td><td>False</td><td>True</td><td>218.6533917971738</td><td>--</td></tr>\n",
       "<tr><td>39627340308809958</td><td>51.187873749296216</td><td>-18.68498663548925</td><td>S</td><td>4611686018427650052</td><td>0</td><td>main</td><td>2431</td><td>20211211</td><td>1</td><td>802</td><td>0</td><td>9178.343</td><td>109.40445</td><td>187.0044</td><td>40.241814</td><td>74.7603</td><td>2.0069728172974117</td><td>0.0007477506401380655</td><td>0</td><td>48.49606710206717</td><td>--</td><td>--</td><td>--</td><td>--</td><td>False</td><td>0</td><td>1.9983404760103864</td><td>0.9999997717231851</td><td>1</td><td>True</td><td>False</td><td>False</td><td>True</td><td>main</td><td>5578</td><td>20240115</td><td>9</td><td>4821</td><td>0</td><td>7212.379</td><td>85.19447</td><td>125.80625</td><td>31.0412</td><td>101.923996</td><td>0.7043309361524931</td><td>0.00024905586442791557</td><td>0</td><td>12.884191201068461</td><td>1.5745574</td><td>0.9091406</td><td>2.011520769106854</td><td>0.0006324647</td><td>True</td><td>0</td><td>2.0054840193132675</td><td>0.9997103015338709</td><td>1</td><td>False</td><td>False</td><td>False</td><td>True</td><td>-129872.21207844844</td><td>--</td></tr>\n",
       "<tr><td>39627340417864619</td><td>58.14153535211798</td><td>-18.655313081601093</td><td>S</td><td>6917529027641344004</td><td>0</td><td>main</td><td>5562</td><td>20231014</td><td>9</td><td>4808</td><td>0</td><td>7035.6216</td><td>81.98607</td><td>111.38837</td><td>30.116125</td><td>159.30571</td><td>1.7182248381321887</td><td>0.0002313470367366307</td><td>0</td><td>16929.163828864694</td><td>--</td><td>--</td><td>--</td><td>--</td><td>False</td><td>0</td><td>1.714487552534548</td><td>0.9999982391808443</td><td>1</td><td>True</td><td>False</td><td>False</td><td>True</td><td>main</td><td>10239</td><td>20211103</td><td>1</td><td>559</td><td>0</td><td>6456.902</td><td>77.87204</td><td>112.15623</td><td>30.255894</td><td>60.511314</td><td>1.7215682777556096</td><td>0.0002706127530397984</td><td>0</td><td>16589.626060202718</td><td>--</td><td>--</td><td>--</td><td>--</td><td>False</td><td>0</td><td>1.7172495026674883</td><td>0.9999989509396111</td><td>1</td><td>True</td><td>False</td><td>False</td><td>True</td><td>368.7472680032931</td><td>--</td></tr>\n",
       "<tr><td>39627345664940042</td><td>27.79347932580396</td><td>-18.552704401706187</td><td>S</td><td>262148</td><td>0</td><td>main</td><td>9107</td><td>20211031</td><td>1</td><td>960</td><td>0</td><td>7325.1147</td><td>85.673874</td><td>126.3253</td><td>34.453125</td><td>124.030754</td><td>1.9874137054143144</td><td>0.000221865363235464</td><td>0</td><td>31115.38622060418</td><td>--</td><td>--</td><td>--</td><td>--</td><td>False</td><td>0</td><td>1.9849023355615452</td><td>0.9999991478797774</td><td>1</td><td>True</td><td>False</td><td>False</td><td>True</td><td>main</td><td>4311</td><td>20231205</td><td>9</td><td>4767</td><td>0</td><td>7503.793</td><td>86.23062</td><td>123.41275</td><td>33.253967</td><td>189.7061</td><td>1.9885758518426395</td><td>0.00018896763340532925</td><td>0</td><td>27490.233465105295</td><td>--</td><td>--</td><td>--</td><td>--</td><td>False</td><td>0</td><td>1.98915631195247</td><td>0.9999999306266997</td><td>1</td><td>True</td><td>False</td><td>False</td><td>True</td><td>116.62353080595247</td><td>--</td></tr>\n",
       "<tr><td>39627345669128755</td><td>27.910725902952333</td><td>-18.581997574683474</td><td>S</td><td>4611686018427650052</td><td>0</td><td>main</td><td>4311</td><td>20231205</td><td>9</td><td>4607</td><td>0</td><td>7407.416</td><td>81.16192</td><td>118.15105</td><td>31.983698</td><td>160.45164</td><td>1.797942898898292</td><td>0.0006964647798811783</td><td>0</td><td>4296.079443852417</td><td>--</td><td>--</td><td>--</td><td>--</td><td>False</td><td>0</td><td>1.7966461766512594</td><td>0.9999988065142318</td><td>1</td><td>True</td><td>False</td><td>False</td><td>True</td><td>main</td><td>9107</td><td>20211031</td><td>1</td><td>833</td><td>0</td><td>6913.918</td><td>81.09561</td><td>118.23546</td><td>32.022297</td><td>111.95208</td><td>1.7983037929468282</td><td>0.0006237525355466707</td><td>0</td><td>4628.059950849973</td><td>--</td><td>--</td><td>--</td><td>--</td><td>False</td><td>0</td><td>1.7996125934661533</td><td>0.999998326673597</td><td>1</td><td>True</td><td>False</td><td>False</td><td>True</td><td>38.668878457401625</td><td>--</td></tr>\n",
       "<tr><td>...</td><td>...</td><td>...</td><td>...</td><td>...</td><td>...</td><td>...</td><td>...</td><td>...</td><td>...</td><td>...</td><td>...</td><td>...</td><td>...</td><td>...</td><td>...</td><td>...</td><td>...</td><td>...</td><td>...</td><td>...</td><td>...</td><td>...</td><td>...</td><td>...</td><td>...</td><td>...</td><td>...</td><td>...</td><td>...</td><td>...</td><td>...</td><td>...</td><td>...</td><td>...</td><td>...</td><td>...</td><td>...</td><td>...</td><td>...</td><td>...</td><td>...</td><td>...</td><td>...</td><td>...</td><td>...</td><td>...</td><td>...</td><td>...</td><td>...</td><td>...</td><td>...</td><td>...</td><td>...</td><td>...</td><td>...</td><td>...</td><td>...</td><td>...</td><td>...</td><td>...</td><td>...</td><td>...</td><td>...</td></tr>\n",
       "<tr><td>39637298777688204</td><td>256.4144297006934</td><td>30.929500293443233</td><td>S</td><td>917542</td><td>0</td><td>main</td><td>8171</td><td>20220510</td><td>4</td><td>2028</td><td>0</td><td>6954.3574</td><td>86.56001</td><td>129.27274</td><td>34.2817</td><td>68.30445</td><td>2.0824939449094972</td><td>0.001982406678510254</td><td>0</td><td>35.136310084490106</td><td>--</td><td>--</td><td>--</td><td>--</td><td>False</td><td>0</td><td>2.0898329811349936</td><td>0.9999999995881104</td><td>1</td><td>False</td><td>False</td><td>False</td><td>True</td><td>main</td><td>9716</td><td>20230621</td><td>2</td><td>1412</td><td>0</td><td>6261.7686</td><td>79.62992</td><td>121.979355</td><td>31.250252</td><td>107.50457</td><td>2.083026148100872</td><td>0.0012186745302789081</td><td>0</td><td>25.024364343378693</td><td>--</td><td>--</td><td>--</td><td>--</td><td>False</td><td>0</td><td>2.098275548412035</td><td>0.9999999016862616</td><td>1</td><td>False</td><td>False</td><td>False</td><td>True</td><td>51.760199938468226</td><td>--</td></tr>\n",
       "<tr><td>39637298777688204</td><td>256.4144297006934</td><td>30.929500293443233</td><td>S</td><td>917542</td><td>0</td><td>main</td><td>11287</td><td>20230528</td><td>9</td><td>4909</td><td>0</td><td>5920.4385</td><td>72.31702</td><td>105.36573</td><td>24.661339</td><td>83.062996</td><td>2.0841514765232243</td><td>0.0007611192695436467</td><td>0</td><td>12.375901871360838</td><td>--</td><td>--</td><td>--</td><td>--</td><td>False</td><td>0</td><td>2.1191950473364245</td><td>0.9999941310881159</td><td>1</td><td>False</td><td>False</td><td>False</td><td>True</td><td>main</td><td>1918</td><td>20210515</td><td>1</td><td>597</td><td>0</td><td>6297.339</td><td>79.35404</td><td>107.851395</td><td>26.1927</td><td>36.822662</td><td>2.0740684099439357</td><td>0.0017276348746393707</td><td>0</td><td>43.520230545895174</td><td>--</td><td>--</td><td>--</td><td>--</td><td>False</td><td>0</td><td>2.0838571870746443</td><td>0.99999996480119</td><td>1</td><td>True</td><td>False</td><td>False</td><td>True</td><td>-980.1163584190174</td><td>--</td></tr>\n",
       "<tr><td>39637298777688204</td><td>256.4144297006934</td><td>30.929500293443233</td><td>S</td><td>917542</td><td>0</td><td>main</td><td>11287</td><td>20230528</td><td>9</td><td>4909</td><td>0</td><td>5920.4385</td><td>72.31702</td><td>105.36573</td><td>24.661339</td><td>83.062996</td><td>2.0841514765232243</td><td>0.0007611192695436467</td><td>0</td><td>12.375901871360838</td><td>--</td><td>--</td><td>--</td><td>--</td><td>False</td><td>0</td><td>2.1191950473364245</td><td>0.9999941310881159</td><td>1</td><td>False</td><td>False</td><td>False</td><td>True</td><td>main</td><td>9716</td><td>20230621</td><td>2</td><td>1412</td><td>0</td><td>6261.7686</td><td>79.62992</td><td>121.979355</td><td>31.250252</td><td>107.50457</td><td>2.083026148100872</td><td>0.0012186745302789081</td><td>0</td><td>25.024364343378693</td><td>--</td><td>--</td><td>--</td><td>--</td><td>False</td><td>0</td><td>2.098275548412035</td><td>0.9999999016862616</td><td>1</td><td>False</td><td>False</td><td>False</td><td>True</td><td>-109.3866421161068</td><td>--</td></tr>\n",
       "<tr><td>39637298777688204</td><td>256.4144297006934</td><td>30.929500293443233</td><td>S</td><td>917542</td><td>0</td><td>main</td><td>1918</td><td>20210515</td><td>1</td><td>597</td><td>0</td><td>6297.339</td><td>79.35404</td><td>107.851395</td><td>26.1927</td><td>36.822662</td><td>2.0740684099439357</td><td>0.0017276348746393707</td><td>0</td><td>43.520230545895174</td><td>--</td><td>--</td><td>--</td><td>--</td><td>False</td><td>0</td><td>2.0838571870746443</td><td>0.99999996480119</td><td>1</td><td>True</td><td>False</td><td>False</td><td>True</td><td>main</td><td>9716</td><td>20230621</td><td>2</td><td>1412</td><td>0</td><td>6261.7686</td><td>79.62992</td><td>121.979355</td><td>31.250252</td><td>107.50457</td><td>2.083026148100872</td><td>0.0012186745302789081</td><td>0</td><td>25.024364343378693</td><td>--</td><td>--</td><td>--</td><td>--</td><td>False</td><td>0</td><td>2.098275548412035</td><td>0.9999999016862616</td><td>1</td><td>False</td><td>False</td><td>False</td><td>True</td><td>873.5857443840188</td><td>--</td></tr>\n",
       "<tr><td>39637299964677031</td><td>338.8927467686625</td><td>31.05780547353794</td><td>S</td><td>917542</td><td>0</td><td>main</td><td>4446</td><td>20211111</td><td>8</td><td>4407</td><td>0</td><td>9037.143</td><td>108.99248</td><td>176.25269</td><td>43.71267</td><td>96.66557</td><td>1.7529148667227683</td><td>0.0007028748558074475</td><td>0</td><td>685.4386902358383</td><td>--</td><td>--</td><td>--</td><td>--</td><td>False</td><td>0</td><td>1.7512777288360284</td><td>0.9999999359144386</td><td>1</td><td>True</td><td>False</td><td>False</td><td>True</td><td>main</td><td>10699</td><td>20230918</td><td>5</td><td>2543</td><td>0</td><td>6780.5557</td><td>83.95994</td><td>123.09761</td><td>33.003197</td><td>100.44766</td><td>1.7526463800632004</td><td>0.0007801409088190975</td><td>0</td><td>621.3782623061561</td><td>--</td><td>--</td><td>--</td><td>--</td><td>False</td><td>0</td><td>1.7566393763048609</td><td>0.99999995252891</td><td>1</td><td>True</td><td>False</td><td>False</td><td>True</td><td>-29.238200056616375</td><td>--</td></tr>\n",
       "<tr><td>39637300023398343</td><td>343.0409880951145</td><td>30.914053753711407</td><td>S</td><td>917542</td><td>0</td><td>main</td><td>10701</td><td>20220916</td><td>5</td><td>2861</td><td>0</td><td>7076.3745</td><td>87.40758</td><td>143.75226</td><td>36.371788</td><td>91.585815</td><td>1.8909711684948476</td><td>0.0005610430698700441</td><td>0</td><td>1372.625431753695</td><td>--</td><td>--</td><td>--</td><td>--</td><td>False</td><td>0</td><td>1.8893730222272054</td><td>0.9999999892698203</td><td>1</td><td>True</td><td>False</td><td>False</td><td>True</td><td>main</td><td>4445</td><td>20211024</td><td>7</td><td>3661</td><td>0</td><td>7052.9463</td><td>83.99872</td><td>114.219894</td><td>32.090088</td><td>134.19838</td><td>1.8894611854200034</td><td>0.0006435547276591579</td><td>0</td><td>1503.5328242015094</td><td>--</td><td>--</td><td>--</td><td>--</td><td>False</td><td>0</td><td>1.8972640774313385</td><td>0.9999999014787596</td><td>1</td><td>True</td><td>False</td><td>False</td><td>True</td><td>-156.58459083893874</td><td>--</td></tr>\n",
       "<tr><td>39637300157612972</td><td>352.18194791753734</td><td>31.09550838153213</td><td>S</td><td>4611686018427650052</td><td>0</td><td>main</td><td>1314</td><td>20230919</td><td>7</td><td>3696</td><td>0</td><td>7817.531</td><td>96.79252</td><td>139.23291</td><td>38.948746</td><td>135.32501</td><td>1.1772115868195443</td><td>0.0007612121676740433</td><td>4</td><td>2.264735221164301</td><td>1.1293571</td><td>2.9822366</td><td>--</td><td>--</td><td>False</td><td>4</td><td>1.1799817361083664</td><td>0.9999957412065322</td><td>1</td><td>False</td><td>False</td><td>False</td><td>True</td><td>main</td><td>10057</td><td>20231011</td><td>4</td><td>2422</td><td>0</td><td>6902.9453</td><td>82.97682</td><td>140.07787</td><td>29.88309</td><td>45.062656</td><td>1.1811722628511612</td><td>0.0007689074424145712</td><td>0</td><td>23.881827908568084</td><td>0.87356144</td><td>2.060178</td><td>--</td><td>--</td><td>False</td><td>0</td><td>1.1864569796955458</td><td>0.9995003146744427</td><td>1</td><td>False</td><td>True</td><td>False</td><td>True</td><td>545.3676666284076</td><td>--</td></tr>\n",
       "<tr><td>39637305249500008</td><td>346.4598115565995</td><td>31.288512299632544</td><td>S</td><td>4611686018427650052</td><td>0</td><td>main</td><td>2882</td><td>20230918</td><td>5</td><td>2734</td><td>0</td><td>6182.218</td><td>76.78998</td><td>109.086945</td><td>29.08637</td><td>90.20239</td><td>1.5652496198413288</td><td>8.248185936119212e-05</td><td>4</td><td>1.86401829123497</td><td>8.918485</td><td>0.11206821</td><td>2.462461462129495</td><td>0.0008800564</td><td>True</td><td>4</td><td>2.452972131429296</td><td>0.9999941562741557</td><td>1</td><td>False</td><td>False</td><td>False</td><td>True</td><td>main</td><td>6012</td><td>20211111</td><td>6</td><td>3214</td><td>0</td><td>7971.256</td><td>100.8912</td><td>163.69777</td><td>36.79712</td><td>56.855404</td><td>1.6398119157347983</td><td>3.2770026176169454e-05</td><td>0</td><td>49.38210356235504</td><td>--</td><td>--</td><td>2.458274387016645</td><td>0.00043332743</td><td>True</td><td>0</td><td>2.4401834069033996</td><td>0.999950310201011</td><td>1</td><td>True</td><td>False</td><td>False</td><td>True</td><td>8713.855286102398</td><td>-362.5321331778663</td></tr>\n",
       "<tr><td>39637308760133072</td><td>231.39912274379938</td><td>31.393661412132253</td><td>S</td><td>4611686018428305446</td><td>0</td><td>main</td><td>1239</td><td>20210606</td><td>7</td><td>3930</td><td>0</td><td>7327.1567</td><td>89.990234</td><td>132.11682</td><td>32.101173</td><td>110.66615</td><td>1.894394508849988</td><td>0.0004691609910398635</td><td>0</td><td>1559.0551988687366</td><td>--</td><td>--</td><td>--</td><td>--</td><td>False</td><td>0</td><td>1.8946005162126105</td><td>0.9999988301720553</td><td>1</td><td>True</td><td>False</td><td>False</td><td>True</td><td>main</td><td>2814</td><td>20220605</td><td>5</td><td>2782</td><td>0</td><td>6890.7114</td><td>76.33986</td><td>114.940636</td><td>30.558403</td><td>139.67648</td><td>1.8946914361703904</td><td>0.00040231349066995894</td><td>0</td><td>2057.941110325977</td><td>--</td><td>--</td><td>--</td><td>--</td><td>False</td><td>0</td><td>1.8931082748273926</td><td>0.9999999320100994</td><td>1</td><td>True</td><td>False</td><td>False</td><td>True</td><td>30.754816234823814</td><td>--</td></tr>\n",
       "<tr><td>39637324216142839</td><td>234.18315580606745</td><td>32.1821278926681</td><td>S</td><td>4611686018427650052</td><td>0</td><td>main</td><td>9573</td><td>20220427</td><td>2</td><td>1202</td><td>0</td><td>6846.9976</td><td>81.65637</td><td>119.620255</td><td>30.851637</td><td>99.89146</td><td>1.710396355283336</td><td>0.0007187092632696486</td><td>0</td><td>1580.2172847207403</td><td>--</td><td>--</td><td>--</td><td>--</td><td>False</td><td>0</td><td>1.7096973878854507</td><td>0.9999997173876222</td><td>1</td><td>True</td><td>False</td><td>False</td><td>True</td><td>main</td><td>5943</td><td>20220409</td><td>7</td><td>3866</td><td>0</td><td>7520.6826</td><td>87.84798</td><td>130.201</td><td>34.473</td><td>190.30843</td><td>1.709724510142686</td><td>0.0007443110051551184</td><td>0</td><td>2047.339560000226</td><td>--</td><td>--</td><td>--</td><td>--</td><td>False</td><td>0</td><td>1.717058861489953</td><td>0.9999994662822385</td><td>1</td><td>True</td><td>False</td><td>False</td><td>True</td><td>-74.31167980956158</td><td>--</td></tr>\n",
       "</table></div>"
      ],
      "text/plain": [
       "<Table length=194574>\n",
       "     TARGETID         TARGET_RA      ...          DV               DV_NEW      \n",
       "      int64            float64       ...       float64            float64      \n",
       "----------------- ------------------ ... ------------------- ------------------\n",
       "39627334763942114  62.41429578644092 ...   98619.50703140875                 --\n",
       "39627339939711018   27.9983732539334 ...  -732.1489948252005                 --\n",
       "39627340275255870  49.08957020995101 ...  221432.74573108266                 --\n",
       "39627340304620362 51.072010223479815 ... -3946.9348181442565                 --\n",
       "39627340304620362 51.072010223479815 ...  -3731.160120130599                 --\n",
       "39627340304620362 51.072010223479815 ...   218.6533917971738                 --\n",
       "39627340308809958 51.187873749296216 ... -129872.21207844844                 --\n",
       "39627340417864619  58.14153535211798 ...   368.7472680032931                 --\n",
       "39627345664940042  27.79347932580396 ...  116.62353080595247                 --\n",
       "39627345669128755 27.910725902952333 ...  38.668878457401625                 --\n",
       "              ...                ... ...                 ...                ...\n",
       "39637298777688204  256.4144297006934 ...  51.760199938468226                 --\n",
       "39637298777688204  256.4144297006934 ...  -980.1163584190174                 --\n",
       "39637298777688204  256.4144297006934 ...  -109.3866421161068                 --\n",
       "39637298777688204  256.4144297006934 ...   873.5857443840188                 --\n",
       "39637299964677031  338.8927467686625 ... -29.238200056616375                 --\n",
       "39637300023398343  343.0409880951145 ... -156.58459083893874                 --\n",
       "39637300157612972 352.18194791753734 ...   545.3676666284076                 --\n",
       "39637305249500008  346.4598115565995 ...   8713.855286102398 -362.5321331778663\n",
       "39637308760133072 231.39912274379938 ...  30.754816234823814                 --\n",
       "39637324216142839 234.18315580606745 ...  -74.31167980956158                 --"
      ]
     },
     "execution_count": 283,
     "metadata": {},
     "output_type": "execute_result"
    }
   ],
   "source": [
    "REPEAT_DIR = f'/pscratch/sd/s/shengyu/repeats/DA2/kibo-v1' \n",
    "d = Table.read(REPEAT_DIR+f'/QSOrepeats.fits', hdu=1)\n",
    "zmin = 0.8\n",
    "zmax = 2.1\n",
    "selz = ((zmin<d[\"Z_0\"])&(d[\"Z_0\"]<zmax))|((zmin<d[\"Z_1\"])&(d[\"Z_1\"]<zmax))\n",
    "sel_catas = abs(d['DV'])>3000\n",
    "d[selz & sel_catas]"
   ]
  },
  {
   "cell_type": "code",
   "execution_count": 284,
   "id": "3c226daa",
   "metadata": {},
   "outputs": [
    {
     "data": {
      "text/html": [
       "<div><i>Table length=28866</i>\n",
       "<table id=\"table139749655887728\" class=\"table-striped table-bordered table-condensed\">\n",
       "<thead><tr><th>TARGETID</th><th>TARGET_RA</th><th>TARGET_DEC</th><th>PHOTSYS</th><th>DESI_TARGET</th><th>BGS_TARGET</th><th>SURVEY_0</th><th>TILEID_0</th><th>LASTNIGHT_0</th><th>PETAL_LOC_0</th><th>FIBER_0</th><th>COADD_FIBERSTATUS_0</th><th>TSNR2_BGS_0</th><th>TSNR2_LRG_0</th><th>TSNR2_ELG_0</th><th>TSNR2_QSO_0</th><th>TSNR2_LYA_0</th><th>Z_0</th><th>ZERR_0</th><th>ZWARN_0</th><th>DELTACHI2_0</th><th>OII_FLUX_0</th><th>OII_FLUX_IVAR_0</th><th>Z_NEW_0</th><th>ZERR_NEW_0</th><th>IS_QSO_QN_NEW_RR_0</th><th>ZMTL_ZWARN_0</th><th>ZMTL_Z_QN_0</th><th>ZMTL_Z_QN_CONF_0</th><th>ZMTL_IS_QSO_QN_0</th><th>GOOD_BGS_0</th><th>GOOD_LRG_0</th><th>GOOD_ELG_0</th><th>GOOD_QSO_0</th><th>SURVEY_1</th><th>TILEID_1</th><th>LASTNIGHT_1</th><th>PETAL_LOC_1</th><th>FIBER_1</th><th>COADD_FIBERSTATUS_1</th><th>TSNR2_BGS_1</th><th>TSNR2_LRG_1</th><th>TSNR2_ELG_1</th><th>TSNR2_QSO_1</th><th>TSNR2_LYA_1</th><th>Z_1</th><th>ZERR_1</th><th>ZWARN_1</th><th>DELTACHI2_1</th><th>OII_FLUX_1</th><th>OII_FLUX_IVAR_1</th><th>Z_NEW_1</th><th>ZERR_NEW_1</th><th>IS_QSO_QN_NEW_RR_1</th><th>ZMTL_ZWARN_1</th><th>ZMTL_Z_QN_1</th><th>ZMTL_Z_QN_CONF_1</th><th>ZMTL_IS_QSO_QN_1</th><th>GOOD_BGS_1</th><th>GOOD_LRG_1</th><th>GOOD_ELG_1</th><th>GOOD_QSO_1</th><th>DV</th><th>DV_NEW</th></tr></thead>\n",
       "<thead><tr><th>int64</th><th>float64</th><th>float64</th><th>bytes1</th><th>int64</th><th>int64</th><th>bytes4</th><th>int32</th><th>int32</th><th>int16</th><th>int32</th><th>int32</th><th>float32</th><th>float32</th><th>float32</th><th>float32</th><th>float32</th><th>float64</th><th>float64</th><th>int64</th><th>float64</th><th>float32</th><th>float32</th><th>float64</th><th>float32</th><th>bool</th><th>int64</th><th>float64</th><th>float64</th><th>int16</th><th>bool</th><th>bool</th><th>bool</th><th>bool</th><th>bytes4</th><th>int32</th><th>int32</th><th>int16</th><th>int32</th><th>int32</th><th>float32</th><th>float32</th><th>float32</th><th>float32</th><th>float32</th><th>float64</th><th>float64</th><th>int64</th><th>float64</th><th>float32</th><th>float32</th><th>float64</th><th>float32</th><th>bool</th><th>int64</th><th>float64</th><th>float64</th><th>int16</th><th>bool</th><th>bool</th><th>bool</th><th>bool</th><th>float64</th><th>float64</th></tr></thead>\n",
       "<tr><td>39627334763942114</td><td>62.41429578644092</td><td>-19.012558123878666</td><td>S</td><td>4611686018427650052</td><td>0</td><td>main</td><td>10243</td><td>20211103</td><td>0</td><td>159</td><td>0</td><td>6170.5703</td><td>73.281296</td><td>104.68083</td><td>28.031994</td><td>90.516266</td><td>1.6660638401922518</td><td>6.759132878018886e-05</td><td>0</td><td>19.176493525505066</td><td>--</td><td>--</td><td>2.5430464197795435</td><td>0.00046857048</td><td>True</td><td>0</td><td>2.5575442708917655</td><td>0.9999986109577833</td><td>1</td><td>False</td><td>False</td><td>False</td><td>True</td><td>main</td><td>7146</td><td>20221220</td><td>0</td><td>457</td><td>0</td><td>6175.2344</td><td>77.55812</td><td>113.8521</td><td>28.138481</td><td>87.41986</td><td>2.5430902450193686</td><td>0.000980711279919456</td><td>4</td><td>5.257853996939957</td><td>--</td><td>--</td><td>--</td><td>--</td><td>False</td><td>4</td><td>2.5471454579681563</td><td>0.999999266524066</td><td>1</td><td>False</td><td>False</td><td>False</td><td>True</td><td>98619.50703140875</td><td>--</td></tr>\n",
       "<tr><td>39627340275255870</td><td>49.08957020995101</td><td>-18.708253556750233</td><td>S</td><td>4611686018428305446</td><td>0</td><td>main</td><td>5578</td><td>20240115</td><td>1</td><td>876</td><td>0</td><td>6322.417</td><td>73.44809</td><td>102.90688</td><td>26.166744</td><td>86.528496</td><td>0.6726897212706846</td><td>8.827207359091725e-05</td><td>4</td><td>0.9271681755781174</td><td>2.3046036</td><td>0.5625291</td><td>1.8717108538833895</td><td>0.0009413722</td><td>True</td><td>4</td><td>1.891695280060401</td><td>0.9999996122682022</td><td>1</td><td>False</td><td>False</td><td>False</td><td>True</td><td>main</td><td>2446</td><td>20231207</td><td>9</td><td>4984</td><td>0</td><td>7533.015</td><td>89.10441</td><td>126.55614</td><td>34.16395</td><td>164.99431</td><td>1.908172028624551</td><td>0.0014300663679107635</td><td>0</td><td>38.71360712824389</td><td>--</td><td>--</td><td>--</td><td>--</td><td>False</td><td>0</td><td>1.8911494852920163</td><td>0.9999994441455812</td><td>1</td><td>False</td><td>False</td><td>False</td><td>True</td><td>221432.74573108266</td><td>--</td></tr>\n",
       "<tr><td>39627340304620362</td><td>51.072010223479815</td><td>-18.73415535595483</td><td>S</td><td>4611686018428305446</td><td>0</td><td>main</td><td>5578</td><td>20240115</td><td>9</td><td>4516</td><td>0</td><td>6902.3906</td><td>76.99681</td><td>114.84182</td><td>28.513977</td><td>84.74939</td><td>2.1264313664842773</td><td>0.00040922789155693664</td><td>0</td><td>30.09002346545458</td><td>--</td><td>--</td><td>--</td><td>--</td><td>False</td><td>0</td><td>2.110210099059035</td><td>0.9999999985372952</td><td>1</td><td>False</td><td>False</td><td>False</td><td>True</td><td>main</td><td>2431</td><td>20211211</td><td>1</td><td>893</td><td>0</td><td>9923.741</td><td>119.62926</td><td>205.14374</td><td>45.321026</td><td>85.4882</td><td>2.085270154827261</td><td>0.0002846587915212237</td><td>0</td><td>33.26908776164055</td><td>--</td><td>--</td><td>--</td><td>--</td><td>False</td><td>0</td><td>2.1065035305106052</td><td>0.9999999994676816</td><td>1</td><td>False</td><td>False</td><td>False</td><td>True</td><td>-3946.9348181442565</td><td>--</td></tr>\n",
       "<tr><td>39627340304620362</td><td>51.072010223479815</td><td>-18.73415535595483</td><td>S</td><td>4611686018428305446</td><td>0</td><td>main</td><td>5578</td><td>20240115</td><td>9</td><td>4516</td><td>0</td><td>6902.3906</td><td>76.99681</td><td>114.84182</td><td>28.513977</td><td>84.74939</td><td>2.1264313664842773</td><td>0.00040922789155693664</td><td>0</td><td>30.09002346545458</td><td>--</td><td>--</td><td>--</td><td>--</td><td>False</td><td>0</td><td>2.110210099059035</td><td>0.9999999985372952</td><td>1</td><td>False</td><td>False</td><td>False</td><td>True</td><td>main</td><td>10246</td><td>20240129</td><td>1</td><td>564</td><td>0</td><td>6740.451</td><td>81.354614</td><td>115.00851</td><td>31.25117</td><td>95.09421</td><td>2.0875203941710527</td><td>0.0003347790012987621</td><td>0</td><td>30.94591740705073</td><td>--</td><td>--</td><td>--</td><td>--</td><td>False</td><td>0</td><td>2.1081713631441534</td><td>0.9999999996100886</td><td>1</td><td>False</td><td>False</td><td>False</td><td>True</td><td>-3731.160120130599</td><td>--</td></tr>\n",
       "<tr><td>39627340308809958</td><td>51.187873749296216</td><td>-18.68498663548925</td><td>S</td><td>4611686018427650052</td><td>0</td><td>main</td><td>2431</td><td>20211211</td><td>1</td><td>802</td><td>0</td><td>9178.343</td><td>109.40445</td><td>187.0044</td><td>40.241814</td><td>74.7603</td><td>2.0069728172974117</td><td>0.0007477506401380655</td><td>0</td><td>48.49606710206717</td><td>--</td><td>--</td><td>--</td><td>--</td><td>False</td><td>0</td><td>1.9983404760103864</td><td>0.9999997717231851</td><td>1</td><td>True</td><td>False</td><td>False</td><td>True</td><td>main</td><td>5578</td><td>20240115</td><td>9</td><td>4821</td><td>0</td><td>7212.379</td><td>85.19447</td><td>125.80625</td><td>31.0412</td><td>101.923996</td><td>0.7043309361524931</td><td>0.00024905586442791557</td><td>0</td><td>12.884191201068461</td><td>1.5745574</td><td>0.9091406</td><td>2.011520769106854</td><td>0.0006324647</td><td>True</td><td>0</td><td>2.0054840193132675</td><td>0.9997103015338709</td><td>1</td><td>False</td><td>False</td><td>False</td><td>True</td><td>-129872.21207844844</td><td>--</td></tr>\n",
       "<tr><td>39627345711077425</td><td>30.71294202315488</td><td>-18.38418716987857</td><td>S</td><td>917542</td><td>0</td><td>main</td><td>2761</td><td>20231004</td><td>1</td><td>975</td><td>0</td><td>7366.2124</td><td>86.676956</td><td>143.74228</td><td>33.135426</td><td>59.349716</td><td>1.6646801011407768</td><td>1.8468048277280133e-05</td><td>0</td><td>61.11414575576782</td><td>--</td><td>--</td><td>2.125414087493158</td><td>0.0011387083</td><td>True</td><td>0</td><td>2.1192395943647773</td><td>0.999996660783389</td><td>1</td><td>True</td><td>False</td><td>False</td><td>True</td><td>main</td><td>5891</td><td>20231203</td><td>0</td><td>480</td><td>0</td><td>6886.4062</td><td>83.581985</td><td>116.26905</td><td>30.430458</td><td>115.57983</td><td>2.127281765962165</td><td>0.0006809836887134348</td><td>0</td><td>309.6530165206641</td><td>--</td><td>--</td><td>--</td><td>--</td><td>False</td><td>0</td><td>2.1313362202298456</td><td>0.9999999953190206</td><td>1</td><td>True</td><td>False</td><td>False</td><td>True</td><td>52045.45570491699</td><td>--</td></tr>\n",
       "<tr><td>39627345715272867</td><td>31.007966731904762</td><td>-18.44758942027243</td><td>S</td><td>4611686018428305446</td><td>0</td><td>main</td><td>5891</td><td>20231203</td><td>0</td><td>340</td><td>0</td><td>6552.8906</td><td>79.08699</td><td>110.67197</td><td>28.714264</td><td>104.342415</td><td>2.2712595321040565</td><td>0.0001638999190959079</td><td>0</td><td>39.694691717624664</td><td>--</td><td>--</td><td>--</td><td>--</td><td>False</td><td>0</td><td>2.2734087329397297</td><td>0.9999997385813502</td><td>1</td><td>False</td><td>False</td><td>False</td><td>True</td><td>main</td><td>2761</td><td>20231004</td><td>0</td><td>139</td><td>0</td><td>7045.869</td><td>82.17269</td><td>134.3577</td><td>31.178474</td><td>53.0798</td><td>1.275139844190584</td><td>7.094421418157985e-05</td><td>0</td><td>89.2578495144844</td><td>-5.861007</td><td>0.104431964</td><td>2.2595271837074313</td><td>0.00019541275</td><td>True</td><td>0</td><td>2.2761143181906927</td><td>0.9999947371123855</td><td>1</td><td>True</td><td>True</td><td>False</td><td>True</td><td>-91288.74269101361</td><td>--</td></tr>\n",
       "<tr><td>39627351780236673</td><td>51.466439783533005</td><td>-18.180424709996736</td><td>S</td><td>4611686018427650052</td><td>0</td><td>main</td><td>2431</td><td>20211211</td><td>1</td><td>719</td><td>0</td><td>8470.62</td><td>100.684875</td><td>166.09657</td><td>37.86313</td><td>50.089878</td><td>0.3279790617755749</td><td>8.415547550263484e-05</td><td>4</td><td>4.155611056834459</td><td>-2.4586697</td><td>0.15612923</td><td>2.111744601197413</td><td>0.001020253</td><td>True</td><td>4</td><td>2.119890670276707</td><td>0.9999999784742899</td><td>1</td><td>False</td><td>False</td><td>False</td><td>True</td><td>main</td><td>5578</td><td>20240115</td><td>8</td><td>4365</td><td>0</td><td>9478.555</td><td>109.59139</td><td>154.28052</td><td>39.335632</td><td>118.53667</td><td>1.63694725012407</td><td>3.496372830773475e-05</td><td>4</td><td>7.242466758936644</td><td>--</td><td>--</td><td>2.110023334907756</td><td>0.0008921239</td><td>True</td><td>4</td><td>2.112596536562041</td><td>0.9984465413910044</td><td>1</td><td>False</td><td>False</td><td>False</td><td>True</td><td>295500.73636260396</td><td>-165.83065706941377</td></tr>\n",
       "<tr><td>39627351826372380</td><td>54.32986555074717</td><td>-18.127800710774515</td><td>S</td><td>917542</td><td>0</td><td>main</td><td>3998</td><td>20231105</td><td>0</td><td>322</td><td>0</td><td>9650.301</td><td>113.49907</td><td>166.87523</td><td>37.35855</td><td>100.886795</td><td>0.5210595629677455</td><td>0.0004328073905812483</td><td>4</td><td>6.603624853072688</td><td>-5.139573</td><td>0.11726649</td><td>1.6373343883154927</td><td>0.0011630685</td><td>True</td><td>4</td><td>1.6376771378740425</td><td>0.9999780809046159</td><td>1</td><td>False</td><td>False</td><td>False</td><td>True</td><td>main</td><td>2424</td><td>20230902</td><td>2</td><td>1069</td><td>0</td><td>9589.155</td><td>106.47567</td><td>172.47151</td><td>41.629997</td><td>62.651188</td><td>0.8830488432156001</td><td>0.00012023726637985198</td><td>0</td><td>14.068999670445919</td><td>0.3400945</td><td>1.3556852</td><td>1.6458871435000295</td><td>0.0020394875</td><td>True</td><td>0</td><td>1.6545448270595973</td><td>0.9999967844072178</td><td>1</td><td>False</td><td>False</td><td>False</td><td>True</td><td>71346.09238011569</td><td>972.2132736767712</td></tr>\n",
       "<tr><td>39627351851538227</td><td>55.90814387174844</td><td>-18.27837732352394</td><td>S</td><td>4611686018428305446</td><td>0</td><td>main</td><td>2424</td><td>20230902</td><td>9</td><td>4583</td><td>0</td><td>7589.231</td><td>82.19459</td><td>138.96996</td><td>33.542206</td><td>53.25995</td><td>1.1247312670815666</td><td>0.0011133521845141075</td><td>4</td><td>4.708108346210793</td><td>3.4448578</td><td>0.43396193</td><td>2.310390972228832</td><td>0.0006429181</td><td>True</td><td>4</td><td>2.3043608582653126</td><td>0.9999999429175727</td><td>1</td><td>False</td><td>False</td><td>False</td><td>True</td><td>main</td><td>10244</td><td>20231019</td><td>9</td><td>4750</td><td>0</td><td>8732.447</td><td>102.738434</td><td>157.28786</td><td>39.674164</td><td>130.46124</td><td>2.293132673696557</td><td>0.0013824518587759861</td><td>0</td><td>347.8935175421648</td><td>--</td><td>--</td><td>--</td><td>--</td><td>False</td><td>0</td><td>2.288617143223472</td><td>0.999998547504155</td><td>1</td><td>True</td><td>False</td><td>False</td><td>True</td><td>164857.52106471857</td><td>--</td></tr>\n",
       "<tr><td>...</td><td>...</td><td>...</td><td>...</td><td>...</td><td>...</td><td>...</td><td>...</td><td>...</td><td>...</td><td>...</td><td>...</td><td>...</td><td>...</td><td>...</td><td>...</td><td>...</td><td>...</td><td>...</td><td>...</td><td>...</td><td>...</td><td>...</td><td>...</td><td>...</td><td>...</td><td>...</td><td>...</td><td>...</td><td>...</td><td>...</td><td>...</td><td>...</td><td>...</td><td>...</td><td>...</td><td>...</td><td>...</td><td>...</td><td>...</td><td>...</td><td>...</td><td>...</td><td>...</td><td>...</td><td>...</td><td>...</td><td>...</td><td>...</td><td>...</td><td>...</td><td>...</td><td>...</td><td>...</td><td>...</td><td>...</td><td>...</td><td>...</td><td>...</td><td>...</td><td>...</td><td>...</td><td>...</td><td>...</td></tr>\n",
       "<tr><td>39637133626966296</td><td>358.6622709847507</td><td>23.171680881533252</td><td>S</td><td>262148</td><td>0</td><td>main</td><td>11625</td><td>20211208</td><td>0</td><td>249</td><td>0</td><td>6859.1865</td><td>83.94707</td><td>125.60664</td><td>29.723234</td><td>63.607185</td><td>1.667988016411365</td><td>0.0001422328418880063</td><td>4</td><td>7.076840311288834</td><td>--</td><td>--</td><td>1.7805034594080553</td><td>0.0006319952</td><td>True</td><td>4</td><td>1.8150363287782758</td><td>0.9859170567658506</td><td>1</td><td>False</td><td>False</td><td>False</td><td>True</td><td>main</td><td>5368</td><td>20231210</td><td>5</td><td>2977</td><td>0</td><td>6867.9487</td><td>87.70057</td><td>145.02289</td><td>36.940414</td><td>120.330986</td><td>0.1821599694020087</td><td>8.711541708025017e-05</td><td>4</td><td>8.800796339288354</td><td>3.5446558</td><td>0.32064542</td><td>1.7802240978412</td><td>0.0007560055</td><td>True</td><td>4</td><td>1.772129272459424</td><td>0.9889199649173123</td><td>1</td><td>False</td><td>False</td><td>False</td><td>True</td><td>-166957.28752838372</td><td>-30.12062096700298</td></tr>\n",
       "<tr><td>39637199892777089</td><td>25.768034152231635</td><td>26.513820016872362</td><td>S</td><td>262148</td><td>0</td><td>main</td><td>8280</td><td>20220106</td><td>2</td><td>1133</td><td>0</td><td>6891.1436</td><td>82.722374</td><td>125.37577</td><td>32.67166</td><td>70.96139</td><td>1.2521447656641886</td><td>7.135760407438765e-05</td><td>4</td><td>3.334688812494278</td><td>2.4509437</td><td>1.5935942</td><td>1.2515274462436174</td><td>0.00071258267</td><td>True</td><td>4</td><td>1.2522164019600597</td><td>0.999882824476928</td><td>1</td><td>False</td><td>False</td><td>False</td><td>True</td><td>main</td><td>4933</td><td>20220918</td><td>9</td><td>4778</td><td>0</td><td>7249.6343</td><td>87.16907</td><td>135.21458</td><td>34.599796</td><td>79.782814</td><td>1.2201805686435256</td><td>0.00014603948909562393</td><td>4</td><td>4.634036839008331</td><td>-1.3268462</td><td>1.6405545</td><td>1.2503661677447842</td><td>0.0007942474</td><td>True</td><td>4</td><td>1.2452271274359923</td><td>0.9658776937058471</td><td>1</td><td>False</td><td>False</td><td>False</td><td>True</td><td>-4254.888646110096</td><td>-154.62504628518505</td></tr>\n",
       "<tr><td>39637204879806717</td><td>357.1538565731842</td><td>26.522524621217773</td><td>S</td><td>4611686018427650052</td><td>0</td><td>main</td><td>2243</td><td>20231212</td><td>9</td><td>4683</td><td>0</td><td>8522.19</td><td>98.13103</td><td>147.0935</td><td>37.766098</td><td>157.09123</td><td>1.6955347180831413</td><td>0.00016382570171724682</td><td>0</td><td>12.057899668812752</td><td>--</td><td>--</td><td>2.615886998123143</td><td>0.00038683336</td><td>True</td><td>0</td><td>2.6202596964106695</td><td>0.9999847967744464</td><td>1</td><td>False</td><td>False</td><td>False</td><td>True</td><td>main</td><td>5371</td><td>20230904</td><td>6</td><td>3017</td><td>0</td><td>8098.6714</td><td>100.513535</td><td>158.45068</td><td>40.22319</td><td>71.07133</td><td>2.623143381999875</td><td>0.0009468704905056598</td><td>0</td><td>100.68982567358762</td><td>--</td><td>--</td><td>--</td><td>--</td><td>False</td><td>0</td><td>2.604210249939963</td><td>0.9999250853442561</td><td>1</td><td>True</td><td>False</td><td>False</td><td>True</td><td>103166.94478172033</td><td>--</td></tr>\n",
       "<tr><td>39637204921748583</td><td>359.90671981815876</td><td>26.564413465304483</td><td>S</td><td>262148</td><td>0</td><td>main</td><td>8500</td><td>20220917</td><td>0</td><td>488</td><td>0</td><td>7386.7476</td><td>90.07498</td><td>131.63129</td><td>33.09886</td><td>92.50325</td><td>0.03478316152979722</td><td>3.4938031485927184e-05</td><td>4</td><td>6.378137350315228</td><td>-7.7383285</td><td>0.020631708</td><td>1.4379305625303762</td><td>0.0010596407</td><td>True</td><td>4</td><td>1.4378138065335602</td><td>0.9989713566843638</td><td>1</td><td>False</td><td>False</td><td>False</td><td>True</td><td>main</td><td>10070</td><td>20231011</td><td>6</td><td>3265</td><td>0</td><td>8087.161</td><td>101.727486</td><td>142.55426</td><td>35.570904</td><td>141.87234</td><td>1.4378202316884345</td><td>0.0011370260056992893</td><td>4</td><td>0.21863771602511406</td><td>2.4802356</td><td>2.0814147</td><td>--</td><td>--</td><td>False</td><td>4</td><td>1.4564703546850626</td><td>0.999215588230721</td><td>1</td><td>False</td><td>False</td><td>False</td><td>True</td><td>406481.229657953</td><td>--</td></tr>\n",
       "<tr><td>39637204921748583</td><td>359.90671981815876</td><td>26.564413465304483</td><td>S</td><td>262148</td><td>0</td><td>main</td><td>10070</td><td>20231011</td><td>6</td><td>3265</td><td>0</td><td>8087.161</td><td>101.727486</td><td>142.55426</td><td>35.570904</td><td>141.87234</td><td>1.4378202316884345</td><td>0.0011370260056992893</td><td>4</td><td>0.21863771602511406</td><td>2.4802356</td><td>2.0814147</td><td>--</td><td>--</td><td>False</td><td>4</td><td>1.4564703546850626</td><td>0.999215588230721</td><td>1</td><td>False</td><td>False</td><td>False</td><td>True</td><td>main</td><td>3850</td><td>20230918</td><td>4</td><td>2225</td><td>0</td><td>6867.4497</td><td>79.42488</td><td>122.342545</td><td>33.460777</td><td>97.76776</td><td>0.41610926070275744</td><td>0.00010469754408652996</td><td>4</td><td>1.6778676379472017</td><td>1.525821</td><td>1.2424632</td><td>1.4349640634373628</td><td>0.0010421218</td><td>True</td><td>4</td><td>1.440624482863785</td><td>0.9966144917233115</td><td>1</td><td>False</td><td>False</td><td>False</td><td>True</td><td>-125645.54160961186</td><td>--</td></tr>\n",
       "<tr><td>39637226358837244</td><td>352.90081506303727</td><td>27.413873440074337</td><td>S</td><td>262148</td><td>0</td><td>main</td><td>6949</td><td>20220916</td><td>7</td><td>3621</td><td>0</td><td>9493.957</td><td>118.66354</td><td>197.82452</td><td>47.70192</td><td>92.54921</td><td>1.6913354362199777</td><td>0.00014693632009421615</td><td>0</td><td>17.121404115110636</td><td>--</td><td>--</td><td>2.5645101871722313</td><td>0.00046031646</td><td>True</td><td>0</td><td>2.5765050273667636</td><td>0.9998902653070867</td><td>1</td><td>False</td><td>False</td><td>False</td><td>True</td><td>main</td><td>2244</td><td>20230904</td><td>0</td><td>149</td><td>0</td><td>9733.514</td><td>120.85997</td><td>196.8977</td><td>49.654408</td><td>113.644165</td><td>2.5638666595920228</td><td>0.0005251134428553529</td><td>0</td><td>139.1231561433524</td><td>--</td><td>--</td><td>--</td><td>--</td><td>False</td><td>0</td><td>2.557773360822196</td><td>0.9999997600823762</td><td>1</td><td>True</td><td>False</td><td>False</td><td>True</td><td>97192.74551069827</td><td>--</td></tr>\n",
       "<tr><td>39637279303532749</td><td>350.50591734378787</td><td>29.93351356735247</td><td>S</td><td>262148</td><td>0</td><td>main</td><td>8541</td><td>20231212</td><td>4</td><td>2271</td><td>0</td><td>9157.145</td><td>109.617645</td><td>178.66014</td><td>41.359562</td><td>94.3658</td><td>2.249713640622299</td><td>0.0013624138732867194</td><td>4</td><td>2.3184778918512166</td><td>--</td><td>--</td><td>--</td><td>--</td><td>False</td><td>4</td><td>2.274438534872336</td><td>0.9818005821416981</td><td>1</td><td>False</td><td>False</td><td>False</td><td>True</td><td>main</td><td>11635</td><td>20211111</td><td>5</td><td>2754</td><td>0</td><td>9063.047</td><td>109.89249</td><td>190.80444</td><td>41.479904</td><td>76.160545</td><td>0.9271901526491596</td><td>9.035761126644191e-05</td><td>4</td><td>1.4452070984989405</td><td>0.5137461</td><td>5.6602883</td><td>2.294742189954473</td><td>0.0015507728</td><td>True</td><td>4</td><td>2.2876472409331154</td><td>0.9712556443093507</td><td>1</td><td>False</td><td>False</td><td>False</td><td>True</td><td>-122005.38603342204</td><td>--</td></tr>\n",
       "<tr><td>39637281287441811</td><td>127.30997456243364</td><td>30.265176411041008</td><td>S</td><td>917542</td><td>0</td><td>main</td><td>7057</td><td>20231021</td><td>7</td><td>3609</td><td>0</td><td>6901.8604</td><td>78.91118</td><td>112.55889</td><td>33.2771</td><td>174.35516</td><td>1.942732893089611</td><td>0.0008486107382256337</td><td>0</td><td>612.5640500867739</td><td>--</td><td>--</td><td>--</td><td>--</td><td>False</td><td>0</td><td>1.9331387439583203</td><td>0.9999977331121932</td><td>1</td><td>True</td><td>False</td><td>False</td><td>True</td><td>main</td><td>5494</td><td>20240130</td><td>9</td><td>4614</td><td>0</td><td>7157.277</td><td>80.98761</td><td>124.392624</td><td>31.700998</td><td>134.665</td><td>-5.250146701762508e-05</td><td>1.0762824835698336e-05</td><td>0</td><td>58.352791171491845</td><td>-88.979004</td><td>0.0029931646</td><td>1.9400880374553684</td><td>0.00055380276</td><td>True</td><td>0</td><td>1.9377284009127314</td><td>0.9999895088792853</td><td>1</td><td>True</td><td>True</td><td>False</td><td>True</td><td>-197922.28175664583</td><td>--</td></tr>\n",
       "<tr><td>39637288270957718</td><td>248.74522995735376</td><td>30.500807682213388</td><td>S</td><td>4611686018427650052</td><td>0</td><td>main</td><td>1789</td><td>20210611</td><td>8</td><td>4046</td><td>0</td><td>7722.8403</td><td>94.38438</td><td>134.20024</td><td>32.90677</td><td>72.6529</td><td>1.2404204295609178</td><td>9.643439872989229e-05</td><td>4</td><td>0.01696949452161789</td><td>-0.6637105</td><td>3.2924454</td><td>2.189668452020881</td><td>0.0007308296</td><td>True</td><td>4</td><td>2.1536639275820875</td><td>0.9999976097541609</td><td>1</td><td>False</td><td>False</td><td>False</td><td>True</td><td>main</td><td>11128</td><td>20220420</td><td>9</td><td>4761</td><td>0</td><td>7717.4814</td><td>92.95607</td><td>156.48833</td><td>38.565918</td><td>107.71124</td><td>0.9203088585349496</td><td>0.00011815310224055693</td><td>0</td><td>29.62447429448366</td><td>1.2638825</td><td>1.9571929</td><td>2.203490908676968</td><td>0.0008660368</td><td>True</td><td>0</td><td>2.2064192188333704</td><td>0.9841470918525917</td><td>1</td><td>False</td><td>True</td><td>False</td><td>True</td><td>-42834.38654901232</td><td>1299.1532878288122</td></tr>\n",
       "<tr><td>39637305249500008</td><td>346.4598115565995</td><td>31.288512299632544</td><td>S</td><td>4611686018427650052</td><td>0</td><td>main</td><td>2882</td><td>20230918</td><td>5</td><td>2734</td><td>0</td><td>6182.218</td><td>76.78998</td><td>109.086945</td><td>29.08637</td><td>90.20239</td><td>1.5652496198413288</td><td>8.248185936119212e-05</td><td>4</td><td>1.86401829123497</td><td>8.918485</td><td>0.11206821</td><td>2.462461462129495</td><td>0.0008800564</td><td>True</td><td>4</td><td>2.452972131429296</td><td>0.9999941562741557</td><td>1</td><td>False</td><td>False</td><td>False</td><td>True</td><td>main</td><td>6012</td><td>20211111</td><td>6</td><td>3214</td><td>0</td><td>7971.256</td><td>100.8912</td><td>163.69777</td><td>36.79712</td><td>56.855404</td><td>1.6398119157347983</td><td>3.2770026176169454e-05</td><td>0</td><td>49.38210356235504</td><td>--</td><td>--</td><td>2.458274387016645</td><td>0.00043332743</td><td>True</td><td>0</td><td>2.4401834069033996</td><td>0.999950310201011</td><td>1</td><td>True</td><td>False</td><td>False</td><td>True</td><td>8713.855286102398</td><td>-362.5321331778663</td></tr>\n",
       "</table></div>"
      ],
      "text/plain": [
       "<Table length=28866>\n",
       "     TARGETID         TARGET_RA      ...          DV                DV_NEW      \n",
       "      int64            float64       ...       float64             float64      \n",
       "----------------- ------------------ ... ------------------- -------------------\n",
       "39627334763942114  62.41429578644092 ...   98619.50703140875                  --\n",
       "39627340275255870  49.08957020995101 ...  221432.74573108266                  --\n",
       "39627340304620362 51.072010223479815 ... -3946.9348181442565                  --\n",
       "39627340304620362 51.072010223479815 ...  -3731.160120130599                  --\n",
       "39627340308809958 51.187873749296216 ... -129872.21207844844                  --\n",
       "39627345711077425  30.71294202315488 ...   52045.45570491699                  --\n",
       "39627345715272867 31.007966731904762 ...  -91288.74269101361                  --\n",
       "39627351780236673 51.466439783533005 ...  295500.73636260396 -165.83065706941377\n",
       "39627351826372380  54.32986555074717 ...   71346.09238011569   972.2132736767712\n",
       "39627351851538227  55.90814387174844 ...  164857.52106471857                  --\n",
       "              ...                ... ...                 ...                 ...\n",
       "39637133626966296  358.6622709847507 ... -166957.28752838372  -30.12062096700298\n",
       "39637199892777089 25.768034152231635 ...  -4254.888646110096 -154.62504628518505\n",
       "39637204879806717  357.1538565731842 ...  103166.94478172033                  --\n",
       "39637204921748583 359.90671981815876 ...    406481.229657953                  --\n",
       "39637204921748583 359.90671981815876 ... -125645.54160961186                  --\n",
       "39637226358837244 352.90081506303727 ...   97192.74551069827                  --\n",
       "39637279303532749 350.50591734378787 ... -122005.38603342204                  --\n",
       "39637281287441811 127.30997456243364 ... -197922.28175664583                  --\n",
       "39637288270957718 248.74522995735376 ...  -42834.38654901232  1299.1532878288122\n",
       "39637305249500008  346.4598115565995 ...   8713.855286102398  -362.5321331778663"
      ]
     },
     "execution_count": 284,
     "metadata": {},
     "output_type": "execute_result"
    }
   ],
   "source": [
    "sel_catas = abs(d['DV'])>3000\n",
    "d[selz & sel_catas]"
   ]
  },
  {
   "cell_type": "markdown",
   "id": "bc6457d1",
   "metadata": {},
   "source": [
    "## Consistent check"
   ]
  },
  {
   "cell_type": "code",
   "execution_count": 18,
   "id": "139f7176",
   "metadata": {},
   "outputs": [
    {
     "name": "stdout",
     "output_type": "stream",
     "text": [
      "0.602%\n"
     ]
    }
   ],
   "source": [
    "tracer = 'LRG'\n",
    "zmin = 0.4\n",
    "zmax = 0.6\n",
    "repeat_fn = f'/global/cfs/cdirs/desi/survey/catalogs/DA2/LSS/loa-v1/{tracer}repeats.fits'\n",
    "d = Table.read(repeat_fn)\n",
    "sel = np.isfinite(d['Z1']) & np.isfinite(d['Z2'])\n",
    "# selz = ((zmin<d[\"Z1\"])&(d[\"Z1\"]<zmax))|((zmin<d[\"Z2\"])&(d[\"Z2\"]<zmax))\n",
    "# d = d[sel & selz]\n",
    "d = d[sel]\n",
    "\n",
    "dz = abs(d['Z1']-d['Z2'])/(1+d['Z1'])\n",
    "print(f'{len(dz[dz>0.0033])/len(dz)*100:.3f}%')"
   ]
  },
  {
   "cell_type": "markdown",
   "id": "01e657b9",
   "metadata": {},
   "source": [
    "## Do the selection for the repeats-dark-pairs.fits from Anand script\n",
    "\n",
    "we don't do the z selection here"
   ]
  },
  {
   "cell_type": "code",
   "execution_count": null,
   "id": "445a0ee1",
   "metadata": {},
   "outputs": [
    {
     "name": "stdout",
     "output_type": "stream",
     "text": [
      "OrderedDict([('PRODDIR', '/dvs_ro/cfs/cdirs/desi/spectro/redux/kibo'), ('ZCATDIR', '/dvs_ro/cfs/cdirs/desi/spectro/redux/kibo/zcatalog/v1'), ('PROG', 'dark'), ('BGSSNR2T', 0.1400000003119347), ('LRGSNR2T', 12.15060572324326), ('ELGSNR2T', 8.60000036161418), ('QSOSNR2T', 33.6094737399845), ('LYASNR2T', 11.80090901380597)])\n"
     ]
    },
    {
     "data": {
      "text/html": [
       "<div><i>Table length=1861384</i>\n",
       "<table id=\"table139749655946064\" class=\"table-striped table-bordered table-condensed\">\n",
       "<thead><tr><th>TARGETID</th><th>TARGET_RA</th><th>TARGET_DEC</th><th>PHOTSYS</th><th>DESI_TARGET</th><th>BGS_TARGET</th><th>SURVEY_0</th><th>TILEID_0</th><th>LASTNIGHT_0</th><th>PETAL_LOC_0</th><th>FIBER_0</th><th>COADD_FIBERSTATUS_0</th><th>TSNR2_BGS_0</th><th>TSNR2_LRG_0</th><th>TSNR2_ELG_0</th><th>TSNR2_QSO_0</th><th>TSNR2_LYA_0</th><th>Z_0</th><th>ZERR_0</th><th>ZWARN_0</th><th>DELTACHI2_0</th><th>OII_FLUX_0</th><th>OII_FLUX_IVAR_0</th><th>Z_NEW_0</th><th>ZERR_NEW_0</th><th>IS_QSO_QN_NEW_RR_0</th><th>ZMTL_ZWARN_0</th><th>ZMTL_Z_QN_0</th><th>ZMTL_Z_QN_CONF_0</th><th>ZMTL_IS_QSO_QN_0</th><th>GOOD_BGS_0</th><th>GOOD_LRG_0</th><th>GOOD_ELG_0</th><th>GOOD_QSO_0</th><th>SURVEY_1</th><th>TILEID_1</th><th>LASTNIGHT_1</th><th>PETAL_LOC_1</th><th>FIBER_1</th><th>COADD_FIBERSTATUS_1</th><th>TSNR2_BGS_1</th><th>TSNR2_LRG_1</th><th>TSNR2_ELG_1</th><th>TSNR2_QSO_1</th><th>TSNR2_LYA_1</th><th>Z_1</th><th>ZERR_1</th><th>ZWARN_1</th><th>DELTACHI2_1</th><th>OII_FLUX_1</th><th>OII_FLUX_IVAR_1</th><th>Z_NEW_1</th><th>ZERR_NEW_1</th><th>IS_QSO_QN_NEW_RR_1</th><th>ZMTL_ZWARN_1</th><th>ZMTL_Z_QN_1</th><th>ZMTL_Z_QN_CONF_1</th><th>ZMTL_IS_QSO_QN_1</th><th>GOOD_BGS_1</th><th>GOOD_LRG_1</th><th>GOOD_ELG_1</th><th>GOOD_QSO_1</th><th>DV</th><th>DV_NEW</th></tr></thead>\n",
       "<thead><tr><th>int64</th><th>float64</th><th>float64</th><th>bytes1</th><th>int64</th><th>int64</th><th>bytes4</th><th>int32</th><th>int32</th><th>int16</th><th>int32</th><th>int32</th><th>float32</th><th>float32</th><th>float32</th><th>float32</th><th>float32</th><th>float64</th><th>float64</th><th>int64</th><th>float64</th><th>float32</th><th>float32</th><th>float64</th><th>float32</th><th>bool</th><th>int64</th><th>float64</th><th>float64</th><th>int16</th><th>bool</th><th>bool</th><th>bool</th><th>bool</th><th>bytes4</th><th>int32</th><th>int32</th><th>int16</th><th>int32</th><th>int32</th><th>float32</th><th>float32</th><th>float32</th><th>float32</th><th>float32</th><th>float64</th><th>float64</th><th>int64</th><th>float64</th><th>float32</th><th>float32</th><th>float64</th><th>float32</th><th>bool</th><th>int64</th><th>float64</th><th>float64</th><th>int16</th><th>bool</th><th>bool</th><th>bool</th><th>bool</th><th>float64</th><th>float64</th></tr></thead>\n",
       "<tr><td>39627328883524109</td><td>51.8199242259905</td><td>-19.263063749506014</td><td>S</td><td>4611686018428305446</td><td>0</td><td>main</td><td>10246</td><td>20240129</td><td>0</td><td>336</td><td>0</td><td>6763.1553</td><td>82.52919</td><td>115.37672</td><td>30.360767</td><td>104.57906</td><td>2.6311708603459234</td><td>0.0001498512495028387</td><td>0</td><td>12956.742910504341</td><td>--</td><td>--</td><td>--</td><td>--</td><td>False</td><td>0</td><td>2.632636263423785</td><td>0.9999999854686108</td><td>1</td><td>True</td><td>False</td><td>False</td><td>True</td><td>main</td><td>2431</td><td>20211211</td><td>0</td><td>478</td><td>0</td><td>9188.407</td><td>111.12407</td><td>182.87225</td><td>40.437347</td><td>78.1615</td><td>2.630022854814536</td><td>0.00013406065703960195</td><td>0</td><td>13106.382732197642</td><td>--</td><td>--</td><td>--</td><td>--</td><td>False</td><td>0</td><td>2.638018524840899</td><td>0.9999999823858786</td><td>1</td><td>True</td><td>False</td><td>False</td><td>True</td><td>-94.78028252833774</td><td>--</td></tr>\n",
       "<tr><td>39627328883532704</td><td>52.07007140011368</td><td>-19.133856644131157</td><td>S</td><td>262148</td><td>0</td><td>main</td><td>2431</td><td>20211211</td><td>0</td><td>195</td><td>0</td><td>8831.949</td><td>105.309074</td><td>171.79227</td><td>37.750027</td><td>65.21117</td><td>3.2862124471404863</td><td>0.0003236922383525863</td><td>0</td><td>786.4917979062302</td><td>--</td><td>--</td><td>--</td><td>--</td><td>False</td><td>0</td><td>3.296686558262974</td><td>0.9999999010751297</td><td>1</td><td>True</td><td>False</td><td>False</td><td>True</td><td>main</td><td>10246</td><td>20240129</td><td>0</td><td>305</td><td>0</td><td>7002.581</td><td>85.98608</td><td>121.16713</td><td>31.818363</td><td>109.791664</td><td>3.2856237982576753</td><td>0.0003724867341892688</td><td>0</td><td>839.3955156467855</td><td>--</td><td>--</td><td>--</td><td>--</td><td>False</td><td>0</td><td>3.2821819647402632</td><td>0.9999999945801739</td><td>1</td><td>True</td><td>False</td><td>False</td><td>True</td><td>-41.17212985898944</td><td>--</td></tr>\n",
       "<tr><td>39627329047102947</td><td>62.150229048163645</td><td>-19.165454687808406</td><td>S</td><td>4611686018427650052</td><td>0</td><td>main</td><td>7146</td><td>20221220</td><td>0</td><td>173</td><td>0</td><td>5635.6157</td><td>70.47236</td><td>103.476456</td><td>25.086185</td><td>50.998543</td><td>2.6666787346704264</td><td>0.0002508721479947322</td><td>0</td><td>4921.510086748749</td><td>--</td><td>--</td><td>--</td><td>--</td><td>False</td><td>0</td><td>2.668320532784264</td><td>0.9999997704104325</td><td>1</td><td>True</td><td>False</td><td>False</td><td>True</td><td>main</td><td>10243</td><td>20211103</td><td>0</td><td>495</td><td>0</td><td>6245.7393</td><td>74.981445</td><td>106.619316</td><td>28.771717</td><td>123.2391</td><td>2.666921716784773</td><td>0.0002291651649820853</td><td>0</td><td>5138.65089841187</td><td>--</td><td>--</td><td>--</td><td>--</td><td>False</td><td>0</td><td>2.6699752834498596</td><td>0.999998862422226</td><td>1</td><td>True</td><td>False</td><td>False</td><td>True</td><td>19.86653606199166</td><td>--</td></tr>\n",
       "<tr><td>39627334583584355</td><td>50.97773346766405</td><td>-18.893384995196307</td><td>S</td><td>917542</td><td>0</td><td>main</td><td>2431</td><td>20211211</td><td>1</td><td>699</td><td>0</td><td>9145.879</td><td>108.37106</td><td>175.15996</td><td>39.346485</td><td>55.053177</td><td>2.4636605860314074</td><td>0.0005445591161995427</td><td>0</td><td>88.22283034026623</td><td>--</td><td>--</td><td>--</td><td>--</td><td>False</td><td>0</td><td>2.4598590198154597</td><td>0.9999997808984153</td><td>1</td><td>True</td><td>False</td><td>False</td><td>True</td><td>main</td><td>5578</td><td>20240115</td><td>9</td><td>4942</td><td>0</td><td>7191.9927</td><td>84.01433</td><td>124.2234</td><td>30.621271</td><td>100.35766</td><td>2.4639688646107216</td><td>0.0005049385462730434</td><td>0</td><td>405.2141877859831</td><td>--</td><td>--</td><td>--</td><td>--</td><td>False</td><td>0</td><td>2.4552721158061326</td><td>0.9999997369335324</td><td>1</td><td>True</td><td>False</td><td>False</td><td>True</td><td>26.68263553712172</td><td>--</td></tr>\n",
       "<tr><td>39627334583587384</td><td>51.05614440905087</td><td>-18.90874468514607</td><td>S</td><td>4611686018428305446</td><td>0</td><td>main</td><td>2431</td><td>20211211</td><td>1</td><td>689</td><td>0</td><td>9359.968</td><td>110.091805</td><td>177.60623</td><td>39.761303</td><td>58.484077</td><td>2.3541358883958226</td><td>0.0011022302352320318</td><td>0</td><td>169.23111809045076</td><td>--</td><td>--</td><td>--</td><td>--</td><td>False</td><td>0</td><td>2.353965540218096</td><td>0.9999998979070541</td><td>1</td><td>True</td><td>False</td><td>False</td><td>True</td><td>main</td><td>10246</td><td>20240129</td><td>1</td><td>675</td><td>0</td><td>6817.706</td><td>82.0188</td><td>113.98394</td><td>31.194584</td><td>94.97974</td><td>2.356030988531319</td><td>0.0005088709577531282</td><td>0</td><td>335.6650383503875</td><td>--</td><td>--</td><td>--</td><td>--</td><td>False</td><td>0</td><td>2.3530009881329677</td><td>0.9999991675817169</td><td>1</td><td>True</td><td>False</td><td>False</td><td>True</td><td>169.3839327566311</td><td>--</td></tr>\n",
       "<tr><td>39627334587784469</td><td>51.41541178842179</td><td>-19.00810952353072</td><td>S</td><td>917542</td><td>0</td><td>main</td><td>10246</td><td>20240129</td><td>0</td><td>53</td><td>0</td><td>6033.8945</td><td>71.3961</td><td>99.87338</td><td>26.701622</td><td>71.87366</td><td>2.490077386768722</td><td>0.001131457126397331</td><td>0</td><td>43.62126250565052</td><td>--</td><td>--</td><td>--</td><td>--</td><td>False</td><td>0</td><td>2.471148202888116</td><td>0.9997280329624808</td><td>1</td><td>True</td><td>False</td><td>False</td><td>True</td><td>main</td><td>2431</td><td>20211211</td><td>1</td><td>507</td><td>0</td><td>9085.569</td><td>106.05638</td><td>173.15976</td><td>38.26817</td><td>54.864296</td><td>2.4808335767236436</td><td>0.0010105555104126568</td><td>0</td><td>143.2565848324448</td><td>--</td><td>--</td><td>--</td><td>--</td><td>False</td><td>0</td><td>2.4838786021684873</td><td>0.9999998870504124</td><td>1</td><td>True</td><td>False</td><td>False</td><td>True</td><td>-794.0295379137212</td><td>--</td></tr>\n",
       "<tr><td>39627334591972033</td><td>51.4846429183667</td><td>-18.87674020975671</td><td>S</td><td>4611686018427650052</td><td>0</td><td>main</td><td>2431</td><td>20211211</td><td>1</td><td>663</td><td>0</td><td>9654.481</td><td>114.39836</td><td>185.99109</td><td>41.450592</td><td>57.03419</td><td>2.971349391808017</td><td>0.00044695318172728983</td><td>0</td><td>1920.6887892261147</td><td>--</td><td>--</td><td>--</td><td>--</td><td>False</td><td>0</td><td>2.9755908535636286</td><td>0.9999998253402774</td><td>1</td><td>True</td><td>False</td><td>False</td><td>True</td><td>main</td><td>10246</td><td>20240129</td><td>0</td><td>57</td><td>0</td><td>5963.876</td><td>70.41257</td><td>99.93653</td><td>26.707108</td><td>67.96879</td><td>2.9719656648187467</td><td>0.00026014641428663576</td><td>0</td><td>1869.096837118268</td><td>--</td><td>--</td><td>--</td><td>--</td><td>False</td><td>0</td><td>2.9768588401947893</td><td>0.9999997442353067</td><td>1</td><td>True</td><td>False</td><td>False</td><td>True</td><td>46.52171905770138</td><td>--</td></tr>\n",
       "<tr><td>39627334591976808</td><td>51.6290095026676</td><td>-18.925288548058262</td><td>S</td><td>262148</td><td>0</td><td>main</td><td>2431</td><td>20211211</td><td>0</td><td>216</td><td>0</td><td>9031.084</td><td>108.07634</td><td>178.3158</td><td>40.03493</td><td>65.814156</td><td>3.1791057090356816</td><td>0.00038184309226203307</td><td>0</td><td>241.64942364394665</td><td>--</td><td>--</td><td>--</td><td>--</td><td>False</td><td>0</td><td>3.177948184153297</td><td>0.9999999992409596</td><td>1</td><td>True</td><td>False</td><td>False</td><td>True</td><td>main</td><td>10246</td><td>20240129</td><td>0</td><td>79</td><td>0</td><td>6336.2607</td><td>75.7884</td><td>106.50566</td><td>28.405802</td><td>73.968346</td><td>3.17921572041671</td><td>0.0002953550364677193</td><td>0</td><td>188.8600017502904</td><td>--</td><td>--</td><td>--</td><td>--</td><td>False</td><td>0</td><td>3.1899174839334448</td><td>0.9999999989996742</td><td>1</td><td>True</td><td>False</td><td>False</td><td>True</td><td>7.891779874141479</td><td>--</td></tr>\n",
       "<tr><td>39627334591978975</td><td>51.684587392001276</td><td>-18.988909104768396</td><td>S</td><td>4611686018427650052</td><td>0</td><td>main</td><td>2431</td><td>20211211</td><td>0</td><td>211</td><td>0</td><td>8985.254</td><td>107.76873</td><td>177.33041</td><td>39.585915</td><td>65.77815</td><td>2.7140574574520175</td><td>0.000677541406284235</td><td>0</td><td>418.961668882519</td><td>--</td><td>--</td><td>--</td><td>--</td><td>False</td><td>0</td><td>2.721060690420667</td><td>0.9999999851678005</td><td>1</td><td>True</td><td>False</td><td>False</td><td>True</td><td>main</td><td>10246</td><td>20240129</td><td>0</td><td>182</td><td>0</td><td>6899.51</td><td>82.3421</td><td>113.855644</td><td>30.895334</td><td>91.23651</td><td>2.7082098194916266</td><td>0.0006001825725230641</td><td>0</td><td>661.9895240003243</td><td>--</td><td>--</td><td>--</td><td>--</td><td>False</td><td>0</td><td>2.707519447761827</td><td>0.9999997628843158</td><td>1</td><td>True</td><td>False</td><td>False</td><td>True</td><td>-472.0114800922789</td><td>--</td></tr>\n",
       "<tr><td>39627334596166144</td><td>51.73969762791803</td><td>-18.932666273023123</td><td>S</td><td>262148</td><td>0</td><td>main</td><td>10246</td><td>20240129</td><td>0</td><td>175</td><td>0</td><td>6824.1177</td><td>81.641685</td><td>113.69876</td><td>30.63319</td><td>86.47744</td><td>2.8986051242258</td><td>0.00039406059183770304</td><td>0</td><td>3833.0150358974934</td><td>--</td><td>--</td><td>--</td><td>--</td><td>False</td><td>0</td><td>2.9112493265682273</td><td>0.9999995131796339</td><td>1</td><td>True</td><td>False</td><td>False</td><td>True</td><td>main</td><td>2431</td><td>20211211</td><td>0</td><td>241</td><td>0</td><td>9096.51</td><td>108.9642</td><td>179.01273</td><td>40.111988</td><td>67.384</td><td>2.89951961870128</td><td>0.00031534283809626045</td><td>0</td><td>3284.2548551373184</td><td>--</td><td>--</td><td>--</td><td>--</td><td>False</td><td>0</td><td>2.902549278953787</td><td>0.9999999659397198</td><td>1</td><td>True</td><td>False</td><td>False</td><td>True</td><td>70.32221471416814</td><td>--</td></tr>\n",
       "<tr><td>...</td><td>...</td><td>...</td><td>...</td><td>...</td><td>...</td><td>...</td><td>...</td><td>...</td><td>...</td><td>...</td><td>...</td><td>...</td><td>...</td><td>...</td><td>...</td><td>...</td><td>...</td><td>...</td><td>...</td><td>...</td><td>...</td><td>...</td><td>...</td><td>...</td><td>...</td><td>...</td><td>...</td><td>...</td><td>...</td><td>...</td><td>...</td><td>...</td><td>...</td><td>...</td><td>...</td><td>...</td><td>...</td><td>...</td><td>...</td><td>...</td><td>...</td><td>...</td><td>...</td><td>...</td><td>...</td><td>...</td><td>...</td><td>...</td><td>...</td><td>...</td><td>...</td><td>...</td><td>...</td><td>...</td><td>...</td><td>...</td><td>...</td><td>...</td><td>...</td><td>...</td><td>...</td><td>...</td><td>...</td></tr>\n",
       "<tr><td>39637324534908059</td><td>256.4863720884993</td><td>32.35529120118837</td><td>S</td><td>262148</td><td>0</td><td>main</td><td>1918</td><td>20210515</td><td>3</td><td>1917</td><td>0</td><td>6837.204</td><td>82.041534</td><td>114.722565</td><td>29.70246</td><td>108.809006</td><td>2.896860270532109</td><td>0.00039594088012309485</td><td>0</td><td>3345.028243288398</td><td>--</td><td>--</td><td>--</td><td>--</td><td>False</td><td>0</td><td>2.9036224781856688</td><td>0.9999993307343653</td><td>1</td><td>True</td><td>False</td><td>False</td><td>True</td><td>main</td><td>5047</td><td>20220523</td><td>7</td><td>3955</td><td>0</td><td>7593.589</td><td>83.91243</td><td>128.79535</td><td>33.20575</td><td>139.21478</td><td>2.8956261545739044</td><td>0.00032191805219734744</td><td>0</td><td>3746.1151225566864</td><td>--</td><td>--</td><td>--</td><td>--</td><td>False</td><td>0</td><td>2.901480626771958</td><td>0.9999991969501635</td><td>1</td><td>True</td><td>False</td><td>False</td><td>True</td><td>-94.94275670208926</td><td>--</td></tr>\n",
       "<tr><td>39637324534908059</td><td>256.4863720884993</td><td>32.35529120118837</td><td>S</td><td>262148</td><td>0</td><td>main</td><td>3479</td><td>20220508</td><td>9</td><td>4788</td><td>0</td><td>6330.9126</td><td>78.8873</td><td>113.74965</td><td>30.704384</td><td>124.632385</td><td>2.8951600867849536</td><td>0.00044839025912592147</td><td>0</td><td>669.0471650362015</td><td>--</td><td>--</td><td>--</td><td>--</td><td>False</td><td>0</td><td>2.904499661232729</td><td>0.9999989021779976</td><td>1</td><td>True</td><td>False</td><td>False</td><td>True</td><td>main</td><td>5047</td><td>20220523</td><td>7</td><td>3955</td><td>0</td><td>7593.589</td><td>83.91243</td><td>128.79535</td><td>33.20575</td><td>139.21478</td><td>2.8956261545739044</td><td>0.00032191805219734744</td><td>0</td><td>3746.1151225566864</td><td>--</td><td>--</td><td>--</td><td>--</td><td>False</td><td>0</td><td>2.901480626771958</td><td>0.9999991969501635</td><td>1</td><td>True</td><td>False</td><td>False</td><td>True</td><td>35.871082299854464</td><td>--</td></tr>\n",
       "<tr><td>39637324534911588</td><td>256.678213521342</td><td>32.34495754824565</td><td>S</td><td>4611686018427650052</td><td>0</td><td>main</td><td>5047</td><td>20220523</td><td>7</td><td>3985</td><td>0</td><td>7935.7964</td><td>87.82114</td><td>135.48509</td><td>34.736862</td><td>140.21756</td><td>2.675925770644676</td><td>0.0002046357989705394</td><td>0</td><td>6762.148998437449</td><td>--</td><td>--</td><td>--</td><td>--</td><td>False</td><td>0</td><td>2.694863303411468</td><td>0.9999993744912281</td><td>1</td><td>True</td><td>False</td><td>False</td><td>True</td><td>main</td><td>8166</td><td>20220509</td><td>1</td><td>785</td><td>0</td><td>7315.795</td><td>89.119514</td><td>124.70856</td><td>35.20176</td><td>131.4048</td><td>2.6755547806531683</td><td>0.000247837832803682</td><td>0</td><td>6649.799331635237</td><td>--</td><td>--</td><td>--</td><td>--</td><td>False</td><td>0</td><td>2.693662204631099</td><td>0.9999997497443165</td><td>1</td><td>True</td><td>False</td><td>False</td><td>True</td><td>-30.25632409001817</td><td>--</td></tr>\n",
       "<tr><td>39637325847725912</td><td>348.9047256548457</td><td>32.21302438350223</td><td>S</td><td>917606</td><td>0</td><td>main</td><td>11666</td><td>20211024</td><td>3</td><td>1998</td><td>0</td><td>9436.084</td><td>109.4613</td><td>162.54776</td><td>40.660374</td><td>110.00191</td><td>2.119870073937234</td><td>0.0005211443963554241</td><td>0</td><td>45.100887891603634</td><td>--</td><td>--</td><td>--</td><td>--</td><td>False</td><td>0</td><td>2.121586355074853</td><td>0.9999999521068182</td><td>1</td><td>True</td><td>False</td><td>False</td><td>True</td><td>main</td><td>7582</td><td>20220916</td><td>6</td><td>3436</td><td>0</td><td>6665.8076</td><td>89.23842</td><td>140.61896</td><td>35.05041</td><td>74.477234</td><td>2.118170023638965</td><td>0.0010979377406782373</td><td>0</td><td>109.53923214529641</td><td>--</td><td>--</td><td>--</td><td>--</td><td>False</td><td>0</td><td>2.1162498088007196</td><td>0.9999999766587034</td><td>1</td><td>True</td><td>False</td><td>False</td><td>True</td><td>-163.3600905048006</td><td>--</td></tr>\n",
       "<tr><td>39637325847726370</td><td>348.9319225618895</td><td>32.1301109447773</td><td>S</td><td>262148</td><td>0</td><td>main</td><td>11666</td><td>20211024</td><td>3</td><td>1755</td><td>0</td><td>9718.285</td><td>114.46431</td><td>176.13216</td><td>43.04337</td><td>110.99372</td><td>3.03927809096824</td><td>0.0004468907224523731</td><td>0</td><td>60.92762499302626</td><td>--</td><td>--</td><td>--</td><td>--</td><td>False</td><td>0</td><td>3.029867168870009</td><td>0.999999845240592</td><td>1</td><td>True</td><td>False</td><td>False</td><td>True</td><td>main</td><td>7582</td><td>20220916</td><td>6</td><td>3410</td><td>0</td><td>6592.283</td><td>88.341736</td><td>138.8911</td><td>34.67579</td><td>73.64405</td><td>3.0383993093033643</td><td>0.0004698155134822526</td><td>0</td><td>70.60223692655563</td><td>--</td><td>--</td><td>--</td><td>--</td><td>False</td><td>0</td><td>3.044511443260955</td><td>0.999999932320741</td><td>1</td><td>True</td><td>False</td><td>False</td><td>True</td><td>-65.22257428808328</td><td>--</td></tr>\n",
       "<tr><td>39637325847727797</td><td>349.0109173729801</td><td>32.18882408110071</td><td>S</td><td>4611686018427650052</td><td>0</td><td>main</td><td>7582</td><td>20220916</td><td>6</td><td>3438</td><td>0</td><td>6430.747</td><td>85.58896</td><td>135.11926</td><td>33.650436</td><td>72.14493</td><td>2.1065610080579327</td><td>0.0004445267960618712</td><td>0</td><td>5718.865616492927</td><td>--</td><td>--</td><td>--</td><td>--</td><td>False</td><td>0</td><td>2.10387198385596</td><td>0.9999995990452326</td><td>1</td><td>True</td><td>False</td><td>False</td><td>True</td><td>main</td><td>11666</td><td>20211024</td><td>3</td><td>1666</td><td>0</td><td>10318.467</td><td>119.47351</td><td>181.3544</td><td>44.661663</td><td>96.13803</td><td>2.1060702674911633</td><td>0.0002959239521216567</td><td>0</td><td>11987.175411626697</td><td>--</td><td>--</td><td>--</td><td>--</td><td>False</td><td>0</td><td>2.112655716801778</td><td>0.9999996068441306</td><td>1</td><td>True</td><td>False</td><td>False</td><td>True</td><td>-47.35793707913266</td><td>--</td></tr>\n",
       "<tr><td>39637325877085752</td><td>350.91923168132973</td><td>32.29060484158931</td><td>S</td><td>917542</td><td>0</td><td>main</td><td>11666</td><td>20211024</td><td>6</td><td>3413</td><td>0</td><td>5898.386</td><td>74.81973</td><td>119.587616</td><td>27.831818</td><td>44.732788</td><td>2.2471863195774757</td><td>0.0012715890659229614</td><td>0</td><td>63.62852104054764</td><td>--</td><td>--</td><td>--</td><td>--</td><td>False</td><td>0</td><td>2.2401694712300486</td><td>0.9997702715477261</td><td>1</td><td>True</td><td>False</td><td>False</td><td>True</td><td>main</td><td>1314</td><td>20230919</td><td>5</td><td>2674</td><td>0</td><td>6407.6826</td><td>81.311554</td><td>123.21019</td><td>31.824842</td><td>66.88685</td><td>2.2423449594545404</td><td>0.0005897877179685002</td><td>0</td><td>123.08335386123508</td><td>--</td><td>--</td><td>--</td><td>--</td><td>False</td><td>0</td><td>2.2549354804122608</td><td>0.9999999662287702</td><td>1</td><td>True</td><td>False</td><td>False</td><td>True</td><td>-446.9725813290646</td><td>--</td></tr>\n",
       "<tr><td>39637325877086009</td><td>350.9308525895714</td><td>32.32327459136541</td><td>S</td><td>4611686018428305446</td><td>0</td><td>main</td><td>11666</td><td>20211024</td><td>6</td><td>3411</td><td>0</td><td>6097.8223</td><td>76.84208</td><td>121.97133</td><td>28.508183</td><td>48.9856</td><td>2.5261356212802677</td><td>0.0005752295148405795</td><td>0</td><td>220.5595896700397</td><td>--</td><td>--</td><td>--</td><td>--</td><td>False</td><td>0</td><td>2.5252436371653246</td><td>0.9999999524649703</td><td>1</td><td>True</td><td>False</td><td>False</td><td>True</td><td>main</td><td>1314</td><td>20230919</td><td>5</td><td>2668</td><td>0</td><td>6101.9053</td><td>76.79706</td><td>115.5513</td><td>29.99857</td><td>63.417503</td><td>2.526611377434663</td><td>0.0003879702524664871</td><td>0</td><td>348.6933081895113</td><td>--</td><td>--</td><td>--</td><td>--</td><td>False</td><td>0</td><td>2.5322333191776565</td><td>0.9999985273424543</td><td>1</td><td>True</td><td>False</td><td>False</td><td>True</td><td>40.44884322487184</td><td>--</td></tr>\n",
       "<tr><td>39637331044468108</td><td>355.0726537378031</td><td>32.45376108833214</td><td>S</td><td>262148</td><td>0</td><td>main</td><td>8510</td><td>20221021</td><td>6</td><td>3460</td><td>0</td><td>6742.203</td><td>84.66899</td><td>117.32207</td><td>31.96233</td><td>100.167885</td><td>2.5579708728894697</td><td>0.0006388307567966727</td><td>0</td><td>83.72461661230773</td><td>--</td><td>--</td><td>--</td><td>--</td><td>False</td><td>0</td><td>2.5525338886455033</td><td>0.9999913723211676</td><td>1</td><td>True</td><td>False</td><td>False</td><td>True</td><td>main</td><td>6014</td><td>20220916</td><td>3</td><td>1897</td><td>0</td><td>7498.646</td><td>92.11094</td><td>141.01172</td><td>36.340813</td><td>93.246994</td><td>2.556798077828806</td><td>0.0005675119217116581</td><td>0</td><td>97.75437347171828</td><td>--</td><td>--</td><td>--</td><td>--</td><td>False</td><td>0</td><td>2.5602196065381313</td><td>0.9999996912928484</td><td>1</td><td>True</td><td>False</td><td>False</td><td>True</td><td>-98.81899726768387</td><td>--</td></tr>\n",
       "<tr><td>39637331044469529</td><td>355.1725635689704</td><td>32.51656481992322</td><td>S</td><td>917606</td><td>0</td><td>main</td><td>6014</td><td>20220916</td><td>3</td><td>1890</td><td>0</td><td>7261.9043</td><td>88.824554</td><td>136.35591</td><td>35.154728</td><td>92.02987</td><td>2.586544726881312</td><td>0.0008200326213724535</td><td>0</td><td>455.9108823053539</td><td>--</td><td>--</td><td>--</td><td>--</td><td>False</td><td>0</td><td>2.5772862506344834</td><td>0.999999996202023</td><td>1</td><td>True</td><td>False</td><td>False</td><td>True</td><td>main</td><td>11629</td><td>20230919</td><td>5</td><td>2693</td><td>0</td><td>6368.079</td><td>77.737686</td><td>113.23744</td><td>30.77359</td><td>81.77862</td><td>2.5851656912790695</td><td>0.0006214037602047963</td><td>0</td><td>625.9413350215182</td><td>--</td><td>--</td><td>--</td><td>--</td><td>False</td><td>0</td><td>2.5826543949119403</td><td>0.9999999981523156</td><td>1</td><td>True</td><td>False</td><td>False</td><td>True</td><td>-115.27096532971038</td><td>--</td></tr>\n",
       "</table></div>"
      ],
      "text/plain": [
       "<Table length=1861384>\n",
       "     TARGETID         TARGET_RA      ...          DV          DV_NEW\n",
       "      int64            float64       ...       float64       float64\n",
       "----------------- ------------------ ... ------------------- -------\n",
       "39627328883524109   51.8199242259905 ...  -94.78028252833774      --\n",
       "39627328883532704  52.07007140011368 ...  -41.17212985898944      --\n",
       "39627329047102947 62.150229048163645 ...   19.86653606199166      --\n",
       "39627334583584355  50.97773346766405 ...   26.68263553712172      --\n",
       "39627334583587384  51.05614440905087 ...   169.3839327566311      --\n",
       "39627334587784469  51.41541178842179 ...  -794.0295379137212      --\n",
       "39627334591972033   51.4846429183667 ...   46.52171905770138      --\n",
       "39627334591976808   51.6290095026676 ...   7.891779874141479      --\n",
       "39627334591978975 51.684587392001276 ...  -472.0114800922789      --\n",
       "39627334596166144  51.73969762791803 ...   70.32221471416814      --\n",
       "              ...                ... ...                 ...     ...\n",
       "39637324534908059  256.4863720884993 ...  -94.94275670208926      --\n",
       "39637324534908059  256.4863720884993 ...  35.871082299854464      --\n",
       "39637324534911588   256.678213521342 ...  -30.25632409001817      --\n",
       "39637325847725912  348.9047256548457 ...  -163.3600905048006      --\n",
       "39637325847726370  348.9319225618895 ...  -65.22257428808328      --\n",
       "39637325847727797  349.0109173729801 ...  -47.35793707913266      --\n",
       "39637325877085752 350.91923168132973 ...  -446.9725813290646      --\n",
       "39637325877086009  350.9308525895714 ...   40.44884322487184      --\n",
       "39637331044468108  355.0726537378031 ...  -98.81899726768387      --\n",
       "39637331044469529  355.1725635689704 ... -115.27096532971038      --"
      ]
     },
     "execution_count": 269,
     "metadata": {},
     "output_type": "execute_result"
    }
   ],
   "source": [
    "from desitarget.targetmask import desi_mask, bgs_mask\n",
    "from desitarget.sv3.sv3_targetmask import desi_mask as sv3_desi_mask\n",
    "from desitarget.sv3.sv3_targetmask import bgs_mask as sv3_bgs_mask\n",
    "from desitarget.targetmask import zwarn_mask as zmtl_zwarn_mask\n",
    "\n",
    "#generate the clean repeats from Anand scripts\n",
    "REPEAT_AN_DIR = f'/pscratch/sd/s/shengyu/repeats/DA2/kibo-v1' \n",
    "\n",
    "tracer = 'QSO' # BGS_BRIGHT, LRG, ELG, QSO, BGS_FAINT?\n",
    "prog = 'dark' # dark, bright\n",
    "\n",
    "if prog == \"bright\":\n",
    "    tracers = [\"BGS_BRIGHT\", \"BGS_FAINT\"]\n",
    "    repeat_fn = REPEAT_AN_DIR+ f'/repeats-bright-pairs.fits'\n",
    "    mask, mask_key = bgs_mask, \"BGS_TARGET\"\n",
    "    effkey, effmin, effmax, effxlim = \"TSNR2_BGS\", 0.85 * 180, 1.5 * 180, (0, 500)\n",
    "if prog == \"dark\":\n",
    "    tracers = [\"LRG\", \"ELG_LOP\", \"ELG_VLO\"]\n",
    "    repeat_fn = REPEAT_AN_DIR+ f'/repeats-dark-pairs.fits'\n",
    "    mask, mask_key = desi_mask, \"DESI_TARGET\"\n",
    "    effkey, effmin, effmax, effxlim = (\n",
    "        \"TSNR2_LRG\",\n",
    "        0.85 * 1000,\n",
    "        1.5 * 1000,\n",
    "        (500, 1500),\n",
    "    )\n",
    "repeat_fn\n",
    "d = Table.read(repeat_fn, hdu=1)\n",
    "\n",
    "# AR per-tracer setting\n",
    "if tracer[:3] == \"BGS\":\n",
    "    zmin, zmax, goodkey = 0.1, 0.4, \"GOOD_BGS\"\n",
    "else:\n",
    "    if tracer == \"LRG\":\n",
    "        zmin, zmax, goodkey = 0.4, 1.1, \"GOOD_LRG\"\n",
    "    elif tracer[:3] == 'ELG':\n",
    "        zmin, zmax, goodkey = 0.6, 1.6, \"GOOD_ELG\"\n",
    "    elif tracer[:3] == 'QSO':\n",
    "        zmin, zmax, goodkey = 0.8, 2.1, \"GOOD_QSO\"\n",
    "        \n",
    "# AR\n",
    "if tracer[:3] == \"ELG\":\n",
    "    xs = np.log10(\n",
    "        d[\"OII_FLUX_0\"] * np.sqrt(d[\"OII_FLUX_IVAR_0\"])\n",
    "    ) + 0.2 * np.log10(d[\"DELTACHI2_0\"])\n",
    "    xlim = (0, 3)\n",
    "    xlab = \"log10(FOII_SNR) + 0.2 * log10(DELTACHI2)\"\n",
    "else:\n",
    "    xs = np.log10(d[\"DELTACHI2_0\"])\n",
    "    xlab = \"log10(DELTACHI2)\"\n",
    "    xlim = (0, 6)\n",
    "\n",
    "# AR efftime_spec\n",
    "snr2time = d.meta[\"{}SNR2T\".format(effkey.split(\"_\")[1])]\n",
    "efftime0s = snr2time * d[\"{}_0\".format(effkey)]\n",
    "efftime1s = snr2time * d[\"{}_1\".format(effkey)]\n",
    "# AR for both elements of a pair, cut on:\n",
    "# AR - tracer\n",
    "# AR - coadd_fiberstatus\n",
    "# AR - zmtl_zwarn_mask nodata + bad\n",
    "# AR - efftime_spec\n",
    "# AR cut on redshift range with a OR\n",
    "sel = (d[mask_key] & mask[tracer]) > 0\n",
    "sel &= (d[\"COADD_FIBERSTATUS_0\"] == 0) & (d[\"COADD_FIBERSTATUS_1\"] == 0)\n",
    "nodata0 = (d[\"ZMTL_ZWARN_0\"] & zmtl_zwarn_mask[\"NODATA\"]) > 0\n",
    "nodata1 = (d[\"ZMTL_ZWARN_1\"] & zmtl_zwarn_mask[\"NODATA\"]) > 0\n",
    "badqa0 = (d[\"ZMTL_ZWARN_0\"] & zmtl_zwarn_mask.mask(\"BAD_SPECQA|BAD_PETALQA\")) > 0\n",
    "badqa1 = (d[\"ZMTL_ZWARN_1\"] & zmtl_zwarn_mask.mask(\"BAD_SPECQA|BAD_PETALQA\")) > 0\n",
    "sel &= (~nodata0) & (~nodata1)\n",
    "sel &= (~badqa0) & (~badqa1)\n",
    "sel &= (efftime0s > effmin) & (efftime1s > effmin)\n",
    "sel &= (efftime0s < effmax) & (efftime1s < effmax)\n",
    "sel &= (d[\"{}_0\".format(goodkey)]) & (d[\"{}_1\".format(goodkey)])\n",
    "# sel &= (d['SURVEY_0']=='sv3')&(d['SURVEY_1']=='sv3')\n",
    "# sel &= (d['SURVEY_0']=='main')&(d['SURVEY_1']=='main')\n",
    "# selz0 = (d[\"Z_0\"] > zmin) & (d[\"Z_0\"] < zmax)\n",
    "# selz1 = (d[\"Z_1\"] > zmin) & (d[\"Z_1\"] < zmax)\n",
    "# sel &= (selz0) | (selz1)\n",
    "if tracer == 'ELG':\n",
    "    sel &= (~d[\"GOOD_QSO_0\"]) & (~d[\"GOOD_QSO_1\"])\n",
    "if tracer == 'QSO':\n",
    "    sel &= (~d[\"GOOD_ELG_0\"]) & (~d[\"GOOD_ELG_0\"])\n",
    "    sel &= (~d[\"GOOD_LRG_0\"]) & (~d[\"GOOD_LRG_0\"])\n",
    "d= d[~np.isnan(d['DV'])]\n",
    "d = d[sel]\n",
    "print(d.meta)\n",
    "outfn = f\"/pscratch/sd/s/shengyu/repeats/DA2/kibo-v1/{tracer}repeats.fits\"\n",
    "# write the table; this preserves d.meta (use serialize_meta=True for full fidelity)\n",
    "d.write(outfn, format=\"fits\", overwrite=True)\n",
    "d"
   ]
  },
  {
   "cell_type": "code",
   "execution_count": null,
   "id": "e8b299b0",
   "metadata": {},
   "outputs": [
    {
     "name": "stdout",
     "output_type": "stream",
     "text": [
      "write QSO-only file\n",
      "QSO redshifts needs to be corrected\n"
     ]
    }
   ],
   "source": [
    "from desitarget.targetmask import desi_mask, bgs_mask\n",
    "from desitarget.sv3.sv3_targetmask import desi_mask as sv3_desi_mask\n",
    "from desitarget.sv3.sv3_targetmask import bgs_mask as sv3_bgs_mask\n",
    "from desitarget.targetmask import zwarn_mask as zmtl_zwarn_mask\n",
    "from astropy import constants\n",
    "\n",
    "tracer = 'QSO'\n",
    "REPEAT_AN_DIR = f'/pscratch/sd/s/shengyu/repeats/DA2/kibo-v1' \n",
    "repeat_fn = REPEAT_AN_DIR+ f'/repeats-dark-pairs.fits'\n",
    "outfn = f\"/pscratch/sd/s/shengyu/repeats/DA2/kibo-v1/QSOrepeats.fits\"\n",
    "\n",
    "d        = Table.read(repeat_fn)\n",
    "tracer   = 'QSO'\n",
    "goodkey  = \"GOOD_QSO\"\n",
    "mask, mask_key = desi_mask, \"DESI_TARGET\"\n",
    "effkey, effmin, effmax, effxlim = (\"TSNR2_LRG\",0.85 * 1000,1.5 * 1000,(500, 1500))\n",
    "# efftime_spec calculation for selections\n",
    "snr2time = d.meta[\"{}SNR2T\".format(effkey.split(\"_\")[1])]\n",
    "efftime0s= snr2time * d[\"{}_0\".format(effkey)]\n",
    "efftime1s= snr2time * d[\"{}_1\".format(effkey)]\n",
    "# zmtl_zwarn_mask nodata + bad selections\n",
    "nodata0  = (d[\"ZMTL_ZWARN_0\"] & zmtl_zwarn_mask[\"NODATA\"]) > 0\n",
    "nodata1  = (d[\"ZMTL_ZWARN_1\"] & zmtl_zwarn_mask[\"NODATA\"]) > 0\n",
    "badqa0   = (d[\"ZMTL_ZWARN_0\"] & zmtl_zwarn_mask.mask(\"BAD_SPECQA|BAD_PETALQA\")) > 0\n",
    "badqa1   = (d[\"ZMTL_ZWARN_1\"] & zmtl_zwarn_mask.mask(\"BAD_SPECQA|BAD_PETALQA\")) > 0\n",
    "# Apply the selection criteria to clean the data\n",
    "sel      = (d[mask_key] & mask[tracer]) > 0\n",
    "sel &= (d[\"COADD_FIBERSTATUS_0\"] == 0) & (d[\"COADD_FIBERSTATUS_1\"] == 0)\n",
    "sel &= (~nodata0) & (~nodata1)\n",
    "sel &= (~badqa0) & (~badqa1)\n",
    "sel &= (efftime0s > effmin) & (efftime1s > effmin)\n",
    "sel &= (efftime0s < effmax) & (efftime1s < effmax)\n",
    "sel &= (d[\"{}_0\".format(goodkey)]) & (d[\"{}_1\".format(goodkey)])\n",
    "sel &= (d['SURVEY_0']=='main')&(d['SURVEY_1']=='main')\n",
    "print('write QSO-only file')\n",
    "d    = d[sel]\n",
    "d.write(outfn,overwrite=True)\n",
    "\n",
    "if np.isnan(d[\"DV\"]).sum() == 0:\n",
    "    print(\"QSO redshifts needs to be corrected\")\n",
    "    columns  = ['TARGETID','TILEID','LASTNIGHT','Z']\n",
    "    d_zacc   = Table(fitsio.read('/global/cfs/cdirs/desi/survey/catalogs/DA2/QSO/kibo/QSO_cat_kibo_cumulative_v3.fits',columns=columns))\n",
    "    # change the name in the data file to be match with the accurate redshift table\n",
    "    for rid in range(2):\n",
    "        for col in columns[1:]:\n",
    "            if col not in d.colnames:\n",
    "                d[f'{col}_{rid}'].name = col\n",
    "        # join the two tables to obtain the true QSO measurement from d_zacc in d_ztrue\n",
    "        d_ztrue  = []\n",
    "        d_ztrue  = join(d,d_zacc,keys=columns[:-1],join_type='left',table_names=[f'{rid}', f'{rid}_true'])\n",
    "        d_ztrue[f'Z_{rid}'] = d_ztrue[f'Z_{rid}_true']*1\n",
    "        # return to the *_{rid} names\n",
    "        for col in columns[1:-1]:\n",
    "            d_ztrue[f'{col}'].name = f'{col}_{rid}'\n",
    "        # \n",
    "        d = d_ztrue.copy()\n",
    "    # save the new file\n",
    "    d_ztrue['DV'].name = 'DV_Redrock'\n",
    "    d_ztrue['DV'] = constants.c.to(\"km/s\").value * (d_ztrue[\"Z_1\"] - d_ztrue[\"Z_0\"]) / (1 + d_ztrue[\"Z_0\"])\n",
    "    d_ztrue['Z_0'][d_ztrue.mask['Z_0_true']] = np.nan\n",
    "    d_ztrue['Z_1'][d_ztrue.mask['Z_1_true']] = np.nan\n",
    "    d_ztrue['DV'][d_ztrue.mask['DV']]= np.nan #Redrock redshift\n",
    "    d_ztrue.remove_columns(['Z_0_true','Z_1_true'])\n",
    "    d_ztrue.write(outfn,overwrite=True,format='fits')"
   ]
  }
 ],
 "metadata": {
  "kernelspec": {
   "display_name": "rc_env",
   "language": "python",
   "name": "python3"
  },
  "language_info": {
   "codemirror_mode": {
    "name": "ipython",
    "version": 3
   },
   "file_extension": ".py",
   "mimetype": "text/x-python",
   "name": "python",
   "nbconvert_exporter": "python",
   "pygments_lexer": "ipython3",
   "version": "3.9.20"
  }
 },
 "nbformat": 4,
 "nbformat_minor": 5
}
