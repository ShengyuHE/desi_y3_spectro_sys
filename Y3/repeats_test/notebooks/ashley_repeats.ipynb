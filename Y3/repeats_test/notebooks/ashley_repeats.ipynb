{
 "cells": [
  {
   "cell_type": "code",
   "execution_count": 2,
   "id": "814885cd-e912-4d7d-9e71-1f854df1dfc0",
   "metadata": {},
   "outputs": [],
   "source": [
    "import sys\n",
    "import os\n",
    "import shutil\n",
    "import unittest\n",
    "from datetime import datetime\n",
    "import json\n",
    "import numpy as np\n",
    "import fitsio\n",
    "import glob\n",
    "import argparse\n",
    "from astropy.table import Table,join,unique,vstack\n",
    "from matplotlib import pyplot as plt\n"
   ]
  },
  {
   "cell_type": "code",
   "execution_count": 3,
   "id": "34db60e3-c2f5-4935-85e8-a4d4f0ddb546",
   "metadata": {},
   "outputs": [
    {
     "name": "stdout",
     "output_type": "stream",
     "text": [
      "256 True\n"
     ]
    }
   ],
   "source": [
    "sys.path.append(os.environ['HOME']+'/LSS/py')\n",
    "from LSS import common_tools as common\n",
    "from LSS.main import cattools as ct\n",
    "from LSS.globals import main"
   ]
  },
  {
   "cell_type": "code",
   "execution_count": 4,
   "id": "0575b090-25a7-4189-884e-04b68949df77",
   "metadata": {},
   "outputs": [
    {
     "name": "stdout",
     "output_type": "stream",
     "text": [
      "LRG\n"
     ]
    }
   ],
   "source": [
    "mainp = main('LRG','loa-v1')#get settings for dark time\n",
    "\n",
    "mt = mainp.mtld\n",
    "tiles = mainp.tiles\n",
    "imbits = mainp.imbits #mask bits applied to targeting\n",
    "ebits = mainp.ebits #extra mask bits we think should be applied\n",
    "\n",
    "\n",
    "tsnrcut = mainp.tsnrcut\n",
    "dchi2 = mainp.dchi2\n",
    "tnsrcol = mainp.tsnrcol        \n",
    "zmin = mainp.zmin\n",
    "zmax = mainp.zmax\n",
    "badfib = mainp.badfib\n",
    "\n",
    "\n",
    "wd = mt['SURVEY'] == 'main'\n",
    "wd &= mt['ZDONE'] == 'true'\n",
    "wd &= mt['FAPRGRM'] == 'dark'\n",
    "wd &=mt['ZDATE'] < 20240410 #DR2\n",
    "\n",
    "\n",
    "mtld = mt[wd]\n",
    "ldirspec = '/global/cfs/cdirs/desi/survey/catalogs/DA2/LSS/loa-v1/'\n",
    "specfo = ldirspec+'datcomb_dark_spec_zdone.fits'\n",
    "specf = Table(fitsio.read(specfo.replace('global','dvs_ro')))\n",
    "sel = np.isin(specf['TILEID'],mtld['TILEID'])\n",
    "specf = specf[sel]\n"
   ]
  },
  {
   "cell_type": "code",
   "execution_count": 5,
   "id": "b68042a7-ed1c-44b4-8876-f770eddad67c",
   "metadata": {},
   "outputs": [
    {
     "data": {
      "text/plain": [
       "27998215"
      ]
     },
     "execution_count": 5,
     "metadata": {},
     "output_type": "execute_result"
    }
   ],
   "source": [
    "len(specf)"
   ]
  },
  {
   "cell_type": "code",
   "execution_count": 6,
   "id": "c723df87-8416-4cdf-811e-8066e5fa7a7e",
   "metadata": {},
   "outputs": [],
   "source": [
    "specf = Table(specf)\n",
    "specf.keep_columns(['TARGETID','Z','ZWARN','DELTACHI2','LOCATION','DESI_TARGET','TILEID','TSNR2_LRG','TSNR2_ELG','ZWARN_MTL','COADD_FIBERSTATUS','FIBER','LASTNIGHT'])\n",
    "#specf.dtype.names"
   ]
  },
  {
   "cell_type": "code",
   "execution_count": 7,
   "id": "9a3e4e4c-9005-4f3f-869a-769f68d944b4",
   "metadata": {},
   "outputs": [
    {
     "name": "stdout",
     "output_type": "stream",
     "text": [
      "number with no data 114111\n",
      "number with bad qa 730556\n",
      "number at low tsnr2 487520\n",
      "will mask fibers with time dependence\n",
      "number removed from time dependent mask is 411848\n",
      "number removed from spike mask is 56226\n",
      "number removed from petal night mask is 133031\n"
     ]
    }
   ],
   "source": [
    "specf = common.cut_specdat(specf,badfib=mainp.badfib_td,tsnr_min=tsnrcut,tsnr_col=tnsrcol,fibstatusbits=mainp.badfib_status,remove_badfiber_spike_nz=True,mask_petal_nights=True)"
   ]
  },
  {
   "cell_type": "code",
   "execution_count": 8,
   "id": "9af47084-11b6-4f66-81c2-a15b4a2ecb2b",
   "metadata": {},
   "outputs": [
    {
     "data": {
      "text/plain": [
       "26612414"
      ]
     },
     "execution_count": 8,
     "metadata": {},
     "output_type": "execute_result"
    }
   ],
   "source": [
    "len(specf)"
   ]
  },
  {
   "cell_type": "code",
   "execution_count": 9,
   "id": "10588faa-31e2-44a9-ab66-713465f83623",
   "metadata": {},
   "outputs": [],
   "source": [
    "sel_LRG = (specf['DESI_TARGET']) & 1 > 0\n",
    "sel_gz = common.goodz_infull('LRG',specf,zcol='Z')\n",
    "specfl = specf[sel_LRG&sel_gz]"
   ]
  },
  {
   "cell_type": "code",
   "execution_count": 70,
   "id": "2b95ee78-dd9d-46d5-958c-5e44de96b2b0",
   "metadata": {},
   "outputs": [],
   "source": [
    "def get_repeats(indat,zcol='Z'):\n",
    "    tids,cnts = np.unique(indat['TARGETID'],return_counts=True)\n",
    "    rtids = tids[cnts>1]\n",
    "    sel_r = np.isin(indat['TARGETID'],rtids)\n",
    "    specflr = indat[sel_r]\n",
    "    print(len(specflr),len(np.unique(specflr['TARGETID'])))\n",
    "    specflr.sort('TARGETID')\n",
    "    dzl = []\n",
    "    zl1 = []\n",
    "    zl2 = []\n",
    "    tidl = []\n",
    "    ind = 0\n",
    "    while ind < len(specflr):\n",
    "        tid = specflr[ind]['TARGETID']\n",
    "        z1 = specflr[ind][zcol]\n",
    "        ind2 = 1\n",
    "        #while (ind+ind2) < len(specf_LRGr):\n",
    "        while specflr[ind+ind2]['TARGETID'] == tid:\n",
    "            zn = specflr[ind+ind2][zcol]\n",
    "            dzl.append((z1-zn)/(1+z1))\n",
    "            zl1.append(z1)\n",
    "            zl2.append(zn)\n",
    "            tidl.append(tid)\n",
    "            ind2 += 1\n",
    "            if ind+ind2 >= len(specflr):\n",
    "                break\n",
    "        ind += ind2\n",
    "        if ind%1e4 == 0:\n",
    "            print(ind)    \n",
    "    res = Table()\n",
    "    res['TARGETID'] = tidl\n",
    "    res['Z1'] = zl1\n",
    "    res['Z2'] = zl2\n",
    "    return res#dzl,zl1,zl2"
   ]
  },
  {
   "cell_type": "code",
   "execution_count": 10,
   "id": "5663c9b1-b430-413e-af26-7676751a5aa9",
   "metadata": {},
   "outputs": [],
   "source": [
    "tids,cnts = np.unique(specfl['TARGETID'],return_counts=True)"
   ]
  },
  {
   "cell_type": "code",
   "execution_count": 11,
   "id": "bf2c2582-8b0f-4eeb-a915-b242e1cfa324",
   "metadata": {},
   "outputs": [],
   "source": [
    "rtids = tids[cnts>1]"
   ]
  },
  {
   "cell_type": "code",
   "execution_count": 12,
   "id": "ef5cccaa-27cb-4dc0-9626-85fffcbe745e",
   "metadata": {},
   "outputs": [
    {
     "data": {
      "text/plain": [
       "436262"
      ]
     },
     "execution_count": 12,
     "metadata": {},
     "output_type": "execute_result"
    }
   ],
   "source": [
    "sel_r = np.isin(specfl['TARGETID'],rtids)\n",
    "specflr = specfl[sel_r]\n",
    "len(specflr)"
   ]
  },
  {
   "cell_type": "code",
   "execution_count": null,
   "id": "837cb422-118f-42f5-95e5-4aad29567509",
   "metadata": {},
   "outputs": [],
   "source": []
  },
  {
   "cell_type": "code",
   "execution_count": null,
   "id": "81c0fbf5-b8aa-4fde-bdf1-1d5cdb79fbfc",
   "metadata": {},
   "outputs": [],
   "source": []
  },
  {
   "cell_type": "code",
   "execution_count": null,
   "id": "89780484-8fe1-490a-885e-7994befd745e",
   "metadata": {},
   "outputs": [],
   "source": []
  },
  {
   "cell_type": "code",
   "execution_count": 13,
   "id": "433cac0e-edaf-43dd-b7f6-ca5263b5ebe4",
   "metadata": {},
   "outputs": [],
   "source": [
    "specflr.sort('TARGETID')"
   ]
  },
  {
   "cell_type": "code",
   "execution_count": 14,
   "id": "c9eec0d3-e677-4952-be75-7d75c20352b4",
   "metadata": {},
   "outputs": [
    {
     "name": "stdout",
     "output_type": "stream",
     "text": [
      "30000\n",
      "40000\n",
      "100000\n",
      "110000\n",
      "130000\n",
      "170000\n",
      "180000\n",
      "210000\n",
      "280000\n",
      "300000\n",
      "310000\n",
      "330000\n",
      "340000\n",
      "350000\n",
      "390000\n",
      "400000\n",
      "430000\n"
     ]
    }
   ],
   "source": [
    "dzl = []\n",
    "zl1 = []\n",
    "zl2 = []\n",
    "ind = 0\n",
    "while ind < len(specflr):\n",
    "    tid = specflr[ind]['TARGETID']\n",
    "    z1 = specflr[ind]['Z']\n",
    "    ind2 = 1\n",
    "    #while (ind+ind2) < len(specf_LRGr):\n",
    "    while specflr[ind+ind2]['TARGETID'] == tid:\n",
    "        zn = specflr[ind+ind2]['Z']\n",
    "        dzl.append((z1-zn)/(1+z1))\n",
    "        zl1.append(z1)\n",
    "        zl2.append(zn)\n",
    "        ind2 += 1\n",
    "        if ind+ind2 >= len(specflr):\n",
    "            break\n",
    "    ind += ind2\n",
    "    if ind%1e4 == 0:\n",
    "        print(ind)"
   ]
  },
  {
   "cell_type": "code",
   "execution_count": 15,
   "id": "339c0cad-2077-45ae-8b12-baa3bbe25beb",
   "metadata": {},
   "outputs": [
    {
     "data": {
      "text/plain": [
       "233471"
      ]
     },
     "execution_count": 15,
     "metadata": {},
     "output_type": "execute_result"
    }
   ],
   "source": [
    "len(dzl)"
   ]
  },
  {
   "cell_type": "code",
   "execution_count": 16,
   "id": "b2f5fa18-6b26-4259-b7be-6ae09b812132",
   "metadata": {},
   "outputs": [
    {
     "data": {
      "image/png": "[encoded data removed]",
      "text/plain": [
       "<Figure size 640x480 with 1 Axes>"
      ]
     },
     "metadata": {},
     "output_type": "display_data"
    }
   ],
   "source": [
    "plt.hist(dzl,bins=100,range=(-0.003,0.003))\n",
    "plt.show()"
   ]
  },
  {
   "cell_type": "code",
   "execution_count": 17,
   "id": "b0ef0230-5912-40ce-9f49-4ff8717d6165",
   "metadata": {},
   "outputs": [
    {
     "data": {
      "text/plain": [
       "0.005491045997147398"
      ]
     },
     "execution_count": 17,
     "metadata": {},
     "output_type": "execute_result"
    }
   ],
   "source": [
    "sel = abs(np.array(dzl)) > 0.01\n",
    "np.sum(sel)/len(dzl)"
   ]
  },
  {
   "cell_type": "code",
   "execution_count": 18,
   "id": "c23c47c4-394d-4fa0-9d85-7673fc574eec",
   "metadata": {},
   "outputs": [
    {
     "data": {
      "image/png": "[encoded data removed]",
      "text/plain": [
       "<Figure size 640x480 with 1 Axes>"
      ]
     },
     "metadata": {},
     "output_type": "display_data"
    }
   ],
   "source": [
    "plt.hist(np.log10(np.abs(np.array(dzl))),bins=100)\n",
    "plt.yscale('log')\n",
    "plt.show()"
   ]
  },
  {
   "cell_type": "code",
   "execution_count": 20,
   "id": "239464ee-28ba-48b5-a3c0-c57a620c7b12",
   "metadata": {},
   "outputs": [],
   "source": [
    "qsof = fitsio.read('/global/cfs/cdirs/desi/survey/catalogs//DA2/QSO/loa/QSO_cat_loa_cumulative_v2.fits',columns=['TARGETID','LOCATION','TILEID','Z'])"
   ]
  },
  {
   "cell_type": "code",
   "execution_count": 21,
   "id": "ccca4ad0-5bc6-4ef2-ac11-bbf06a3064c7",
   "metadata": {},
   "outputs": [],
   "source": [
    "specf = join(specf,qsof,keys=['TARGETID','TILEID','LOCATION'],join_type='left',uniq_col_name='{col_name}{table_name}',table_names=['','_QF'])"
   ]
  },
  {
   "cell_type": "code",
   "execution_count": 23,
   "id": "6889cc09-489d-4389-a021-5f65f29e3109",
   "metadata": {},
   "outputs": [],
   "source": [
    "specf['Z_QF'] = specf['Z_QF'].filled(999999)"
   ]
  },
  {
   "cell_type": "code",
   "execution_count": 38,
   "id": "ad5fc366-fa77-4f50-adf1-e539f169a45b",
   "metadata": {},
   "outputs": [
    {
     "data": {
      "text/plain": [
       "3762139"
      ]
     },
     "execution_count": 38,
     "metadata": {},
     "output_type": "execute_result"
    }
   ],
   "source": [
    "selqso = specf['Z_QF']!=999999\n",
    "selqso &= (specf['DESI_TARGET'] & 4) > 0\n",
    "np.sum(selqso)"
   ]
  },
  {
   "cell_type": "code",
   "execution_count": 39,
   "id": "3d142ce3-c625-4968-80df-46fc44425f9e",
   "metadata": {},
   "outputs": [],
   "source": [
    "specfq = specf[selqso]"
   ]
  },
  {
   "cell_type": "code",
   "execution_count": 40,
   "id": "bb84ca44-cac2-4367-aa5e-dfe9795f4202",
   "metadata": {},
   "outputs": [
    {
     "name": "stdout",
     "output_type": "stream",
     "text": [
      "2103816\n",
      "10000\n",
      "40000\n",
      "90000\n",
      "100000\n",
      "120000\n",
      "130000\n",
      "150000\n",
      "180000\n",
      "190000\n",
      "200000\n",
      "210000\n",
      "220000\n",
      "240000\n",
      "250000\n",
      "260000\n",
      "270000\n",
      "300000\n",
      "320000\n",
      "330000\n",
      "340000\n",
      "350000\n",
      "360000\n",
      "500000\n",
      "530000\n",
      "540000\n",
      "550000\n",
      "560000\n",
      "580000\n",
      "600000\n",
      "620000\n",
      "640000\n",
      "700000\n",
      "740000\n",
      "780000\n",
      "830000\n",
      "840000\n",
      "870000\n",
      "880000\n",
      "890000\n",
      "920000\n",
      "930000\n",
      "990000\n",
      "1010000\n",
      "1040000\n",
      "1200000\n",
      "1250000\n",
      "1260000\n",
      "1300000\n",
      "1360000\n",
      "1380000\n",
      "1390000\n",
      "1400000\n",
      "1410000\n",
      "1450000\n",
      "1560000\n",
      "1570000\n",
      "1580000\n",
      "1590000\n",
      "1610000\n",
      "1790000\n",
      "1810000\n",
      "1830000\n",
      "1850000\n",
      "1880000\n",
      "1890000\n",
      "1910000\n",
      "1930000\n",
      "1950000\n",
      "2010000\n",
      "2020000\n",
      "2030000\n",
      "2050000\n",
      "2060000\n",
      "2070000\n",
      "2080000\n"
     ]
    }
   ],
   "source": [
    "dzl,zl1,zl2 = get_repeats(specfq,zcol='Z_QF')"
   ]
  },
  {
   "cell_type": "code",
   "execution_count": 30,
   "id": "02aba148-3ea8-4916-b410-c3797ab3f714",
   "metadata": {},
   "outputs": [
    {
     "data": {
      "image/png": "[encoded data removed]",
      "text/plain": [
       "<Figure size 640x480 with 1 Axes>"
      ]
     },
     "metadata": {},
     "output_type": "display_data"
    }
   ],
   "source": [
    "plt.hist(dzl,bins=100,range=(-0.003,0.003))\n",
    "plt.show()"
   ]
  },
  {
   "cell_type": "code",
   "execution_count": 41,
   "id": "17ae62cb-25b9-4db8-ba3d-150b7c1f9dbc",
   "metadata": {},
   "outputs": [
    {
     "data": {
      "text/plain": [
       "0.007484592702834004"
      ]
     },
     "execution_count": 41,
     "metadata": {},
     "output_type": "execute_result"
    }
   ],
   "source": [
    "sel = abs(np.array(dzl)) > 0.01\n",
    "np.sum(sel)/len(dzl)"
   ]
  },
  {
   "cell_type": "code",
   "execution_count": 42,
   "id": "8f51fb31-1e88-41d0-a3e2-09ccc67ad645",
   "metadata": {},
   "outputs": [
    {
     "data": {
      "image/png": "[encoded data removed]",
      "text/plain": [
       "<Figure size 640x480 with 1 Axes>"
      ]
     },
     "metadata": {},
     "output_type": "display_data"
    }
   ],
   "source": [
    "plt.hist(np.log10(np.abs(np.array(dzl))),bins=100)\n",
    "plt.yscale('log')\n",
    "plt.show()"
   ]
  },
  {
   "cell_type": "code",
   "execution_count": 43,
   "id": "cc382e91-c992-4f4b-85e5-0189aeea1be9",
   "metadata": {},
   "outputs": [
    {
     "data": {
      "text/plain": [
       "0.01025563432519107"
      ]
     },
     "execution_count": 43,
     "metadata": {},
     "output_type": "execute_result"
    }
   ],
   "source": [
    "selzr = np.array(zl1) < 2.1\n",
    "sel = abs(np.array(dzl)[selzr]) > 0.01\n",
    "np.sum(sel)/len(np.array(dzl)[selzr])"
   ]
  },
  {
   "cell_type": "code",
   "execution_count": 44,
   "id": "a97c3827-1794-4753-8fc6-4152ddbab324",
   "metadata": {},
   "outputs": [],
   "source": [
    "elgf = fitsio.read(ldirspec+'emlin_catalog.fits',columns=['TARGETID','LOCATION','TILEID','OII_FLUX','OII_FLUX_IVAR','OIII_FLUX','OIII_FLUX_IVAR'])"
   ]
  },
  {
   "cell_type": "code",
   "execution_count": 45,
   "id": "ae6d0432-7078-4787-b12e-c19afde16026",
   "metadata": {},
   "outputs": [],
   "source": [
    "specf = join(specf,elgf,keys=['TARGETID','TILEID','LOCATION'],join_type='left')"
   ]
  },
  {
   "cell_type": "code",
   "execution_count": 46,
   "id": "1d1e1d83-07f3-48be-9b94-06d175f3db99",
   "metadata": {},
   "outputs": [
    {
     "name": "stderr",
     "output_type": "stream",
     "text": [
      "/tmp/ipykernel_1473047/205721580.py:1: RuntimeWarning: divide by zero encountered in log10\n",
      "  o2c = np.log10(specf['OII_FLUX'] * np.sqrt(specf['OII_FLUX_IVAR']))+0.2*np.log10(specf['DELTACHI2'])\n",
      "/tmp/ipykernel_1473047/205721580.py:1: RuntimeWarning: invalid value encountered in log10\n",
      "  o2c = np.log10(specf['OII_FLUX'] * np.sqrt(specf['OII_FLUX_IVAR']))+0.2*np.log10(specf['DELTACHI2'])\n",
      "/tmp/ipykernel_1473047/205721580.py:2: RuntimeWarning: invalid value encountered in multiply\n",
      "  w = (o2c*0) != 0\n"
     ]
    }
   ],
   "source": [
    "o2c = np.log10(specf['OII_FLUX'] * np.sqrt(specf['OII_FLUX_IVAR']))+0.2*np.log10(specf['DELTACHI2'])\n",
    "w = (o2c*0) != 0\n",
    "w |= specf['OII_FLUX'] < 0\n",
    "o2c[w] = -20\n",
    "specf['o2c'] = o2c\n"
   ]
  },
  {
   "cell_type": "code",
   "execution_count": 47,
   "id": "1fefb8ef-f8cb-401e-ba43-f8d61d17d739",
   "metadata": {},
   "outputs": [],
   "source": [
    "sel_ELG = (specf['DESI_TARGET'] & 2) > 0\n",
    "sel_gz = common.goodz_infull('ELG',specf,zcol='Z')\n",
    "specfe = specf[sel_ELG&sel_gz]"
   ]
  },
  {
   "cell_type": "code",
   "execution_count": 71,
   "id": "4b7b23fc-17e3-4ff9-b1a6-8faae123deb4",
   "metadata": {},
   "outputs": [
    {
     "name": "stdout",
     "output_type": "stream",
     "text": [
      "1025763 476106\n",
      "10000\n",
      "20000\n",
      "40000\n",
      "50000\n",
      "70000\n",
      "120000\n",
      "130000\n",
      "160000\n",
      "200000\n",
      "220000\n",
      "230000\n",
      "240000\n",
      "250000\n",
      "330000\n",
      "340000\n",
      "370000\n",
      "380000\n",
      "390000\n",
      "400000\n",
      "440000\n",
      "450000\n",
      "470000\n",
      "480000\n",
      "500000\n",
      "530000\n",
      "540000\n",
      "550000\n",
      "560000\n",
      "580000\n",
      "590000\n",
      "620000\n",
      "640000\n",
      "650000\n",
      "660000\n",
      "670000\n",
      "700000\n",
      "710000\n",
      "750000\n",
      "760000\n",
      "790000\n",
      "800000\n",
      "820000\n",
      "860000\n",
      "870000\n",
      "880000\n",
      "910000\n",
      "940000\n",
      "950000\n",
      "960000\n",
      "980000\n"
     ]
    }
   ],
   "source": [
    "#dzl,zl1,zl2 = get_repeats(specfe)\n",
    "er = get_repeats(specfe)"
   ]
  },
  {
   "cell_type": "code",
   "execution_count": 75,
   "id": "f21f4a27-a490-4966-9c10-f623df1db3cd",
   "metadata": {},
   "outputs": [
    {
     "data": {
      "text/plain": [
       "0.00264164742739563"
      ]
     },
     "execution_count": 75,
     "metadata": {},
     "output_type": "execute_result"
    }
   ],
   "source": [
    "#sel = abs(np.array(dzl)) > 0.001\n",
    "sel = abs((er['Z1']-er['Z2'])/(1+er['Z1'])) > 0.001\n",
    "np.sum(sel)/len(er)"
   ]
  },
  {
   "cell_type": "code",
   "execution_count": 54,
   "id": "2e4a6e89-f7dc-45d8-8901-8224a7cb02cd",
   "metadata": {},
   "outputs": [
    {
     "data": {
      "text/plain": [
       "0.006958021851638873"
      ]
     },
     "execution_count": 54,
     "metadata": {},
     "output_type": "execute_result"
    }
   ],
   "source": [
    "selzr = np.array(zl1) > 1.49\n",
    "sel = abs(np.array(dzl)[selzr]) > 0.001\n",
    "np.sum(sel)/len(np.array(dzl)[selzr])"
   ]
  },
  {
   "cell_type": "code",
   "execution_count": 52,
   "id": "25a0ecb3-3f37-4bf9-bb3d-ba8568c7a1d0",
   "metadata": {},
   "outputs": [
    {
     "data": {
      "image/png": "[encoded data removed]",
      "text/plain": [
       "<Figure size 640x480 with 1 Axes>"
      ]
     },
     "metadata": {},
     "output_type": "display_data"
    }
   ],
   "source": [
    "plt.hist(np.log10(np.abs(np.array(dzl))),bins=100)\n",
    "plt.yscale('log')\n",
    "plt.show()"
   ]
  },
  {
   "cell_type": "code",
   "execution_count": 59,
   "id": "6fe12486-410f-4b20-a1c8-2ee92425f49e",
   "metadata": {},
   "outputs": [
    {
     "data": {
      "text/plain": [
       "[<matplotlib.lines.Line2D at 0x7fb134d0aa70>]"
      ]
     },
     "execution_count": 59,
     "metadata": {},
     "output_type": "execute_result"
    },
    {
     "data": {
      "image/png": "[encoded data removed]",
      "text/plain": [
       "<Figure size 640x480 with 1 Axes>"
      ]
     },
     "metadata": {},
     "output_type": "display_data"
    }
   ],
   "source": [
    "zm = 0.8\n",
    "zl = []\n",
    "cfl = []\n",
    "while zm < 1.6:\n",
    "    selzr = np.array(zl1) > zm\n",
    "    selzr &= np.array(zl1) < zm+.01\n",
    "    sel = abs(np.array(dzl)[selzr]) > 0.001\n",
    "    zl.append(zm+.005)\n",
    "    cfl.append(np.sum(sel)/len(np.array(dzl)[selzr]))\n",
    "    #print(zm,)\n",
    "    zm += .01\n",
    "plt.plot(zl,cfl)"
   ]
  },
  {
   "cell_type": "code",
   "execution_count": 61,
   "id": "bffdc496-860a-4619-a77d-a07a9122ea4f",
   "metadata": {},
   "outputs": [
    {
     "data": {
      "image/png": "[encoded data removed]",
      "text/plain": [
       "<Figure size 640x480 with 1 Axes>"
      ]
     },
     "metadata": {},
     "output_type": "display_data"
    }
   ],
   "source": [
    "plt.plot(zl,cfl)\n",
    "plt.xlabel('Redshift')\n",
    "plt.ylabel(r'Fraction with $\\Delta z/(1+z)>0.001$')\n",
    "plt.show()"
   ]
  },
  {
   "cell_type": "code",
   "execution_count": 62,
   "id": "4058e479-fc61-4efb-bd5f-941ee859dac3",
   "metadata": {},
   "outputs": [
    {
     "data": {
      "text/plain": [
       "'/pscratch/sd/a/ajross'"
      ]
     },
     "execution_count": 62,
     "metadata": {},
     "output_type": "execute_result"
    }
   ],
   "source": [
    "os.getenv('SCRATCH')"
   ]
  },
  {
   "cell_type": "code",
   "execution_count": 63,
   "id": "719726e8-b9b6-4e3f-a94c-8203bf02d0fa",
   "metadata": {},
   "outputs": [
    {
     "data": {
      "text/plain": [
       "549657"
      ]
     },
     "execution_count": 63,
     "metadata": {},
     "output_type": "execute_result"
    }
   ],
   "source": [
    "len(dzl)"
   ]
  },
  {
   "cell_type": "code",
   "execution_count": 77,
   "id": "76d0c51f-80b5-4d37-874d-9bd65cb717b5",
   "metadata": {},
   "outputs": [],
   "source": [
    "bgsr = fitsio.read(ldirspec+'BGSrepeats.fits')"
   ]
  },
  {
   "cell_type": "code",
   "execution_count": 78,
   "id": "4ab61018-394c-41dc-96c4-8f7e8115c0e5",
   "metadata": {},
   "outputs": [
    {
     "data": {
      "text/plain": [
       "465089"
      ]
     },
     "execution_count": 78,
     "metadata": {},
     "output_type": "execute_result"
    }
   ],
   "source": [
    "len(bgsr)"
   ]
  },
  {
   "cell_type": "code",
   "execution_count": 79,
   "id": "cf28829d-6c62-45ea-8ba4-e4ed2ff4e10b",
   "metadata": {},
   "outputs": [
    {
     "data": {
      "image/png": "[encoded data removed]",
      "text/plain": [
       "<Figure size 640x480 with 1 Axes>"
      ]
     },
     "metadata": {},
     "output_type": "display_data"
    }
   ],
   "source": [
    "dzl = (bgsr['Z1']-bgsr['Z2'])/(1+bgsr['Z1'])\n",
    "plt.hist(np.log10(np.abs(np.array(dzl))),bins=100)\n",
    "plt.yscale('log')\n",
    "plt.show()"
   ]
  },
  {
   "cell_type": "code",
   "execution_count": null,
   "id": "e5c7c4d5-ef1e-480c-8e76-503f167cd55d",
   "metadata": {},
   "outputs": [],
   "source": []
  }
 ],
 "metadata": {
  "kernelspec": {
   "display_name": "DESI master",
   "language": "python",
   "name": "desi-master"
  },
  "language_info": {
   "codemirror_mode": {
    "name": "ipython",
    "version": 3
   },
   "file_extension": ".py",
   "mimetype": "text/x-python",
   "name": "python",
   "nbconvert_exporter": "python",
   "pygments_lexer": "ipython3",
   "version": "3.10.14"
  }
 },
 "nbformat": 4,
 "nbformat_minor": 5
}
