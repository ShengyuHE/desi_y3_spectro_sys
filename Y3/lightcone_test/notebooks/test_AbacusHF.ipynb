{
 "cells": [
  {
   "cell_type": "markdown",
   "id": "956e85aa",
   "metadata": {},
   "source": [
    "## Test on the AbacusHF lightcone mocks"
   ]
  },
  {
   "cell_type": "code",
   "execution_count": null,
   "id": "d7bd558b",
   "metadata": {},
   "outputs": [],
   "source": []
  }
 ],
 "metadata": {
  "language_info": {
   "name": "python"
  }
 },
 "nbformat": 4,
 "nbformat_minor": 5
}
