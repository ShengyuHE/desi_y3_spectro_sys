{
 "cells": [
  {
   "cell_type": "markdown",
   "id": "9bac4eaa",
   "metadata": {},
   "source": [
    "## This Notebook is used to compare the 3pt"
   ]
  },
  {
   "cell_type": "code",
   "execution_count": 1,
   "id": "565cfda7",
   "metadata": {},
   "outputs": [],
   "source": [
    "import os\n",
    "os.environ[\"MPICH_GPU_SUPPORT_ENABLED\"] = \"0\"\n",
    "import sys\n",
    "import argparse\n",
    "import fitsio\n",
    "import numpy as np\n",
    "from astropy.table import Table, vstack\n",
    "from mockfactory import utils, DistanceToRedshift, Catalog, RandomBoxCatalog\n",
    "from triumvirate.catalogue import ParticleCatalogue\n",
    "from triumvirate.threept import compute_bispec_in_gpp_box, compute_3pcf_in_gpp_box\n",
    "from triumvirate.parameters import fetch_paramset_template, ParameterSet"
   ]
  },
  {
   "cell_type": "code",
   "execution_count": null,
   "id": "faaf6237",
   "metadata": {},
   "outputs": [],
   "source": [
    "Y3_data_dir = '/global/cfs/cdirs/desi/survey/catalogs/DA2/LSS/loa-v1/LSScats/v1.1'\n",
    "Y3_Abacus_dir = '/global/cfs/cdirs/desi/users/arocher/Y3/AbacusBox/kibo_v1'\n",
    "# 'LRG/cosmo_0/z0.500/AbacusSummit_base_c000_ph000/'\n"
   ]
  }
 ],
 "metadata": {
  "kernelspec": {
   "display_name": "Python 3",
   "language": "python",
   "name": "python3"
  },
  "language_info": {
   "codemirror_mode": {
    "name": "ipython",
    "version": 3
   },
   "file_extension": ".py",
   "mimetype": "text/x-python",
   "name": "python",
   "nbconvert_exporter": "python",
   "pygments_lexer": "ipython3",
   "version": "3.9.20"
  }
 },
 "nbformat": 4,
 "nbformat_minor": 5
}
